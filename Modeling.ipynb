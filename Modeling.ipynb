{
 "cells": [
  {
   "cell_type": "code",
   "execution_count": 55,
   "metadata": {},
   "outputs": [],
   "source": [
    "import numpy as np\n",
    "import pandas as pd\n",
    "import warnings\n",
    "import matplotlib.pyplot as plt\n",
    "import matplotlib\n",
    "from sklearn.model_selection import train_test_split\n",
    "from sklearn.metrics import mean_squared_error\n",
    "import xgboost as xgb\n",
    "import sqlite3\n",
    "import optuna\n",
    "from optuna import Trial\n",
    "from optuna.samplers import TPESampler\n",
    "import os"
   ]
  },
  {
   "cell_type": "markdown",
   "metadata": {},
   "source": [
    "### 결측치 처리 (결측치 보간법 6가지 앙상블)"
   ]
  },
  {
   "cell_type": "code",
   "execution_count": 94,
   "metadata": {},
   "outputs": [],
   "source": [
    "# 데이터 읽기\n",
    "train_df = pd.read_csv('data_train.csv')\n",
    "submit_test_df = pd.read_csv('data_test.csv')"
   ]
  },
  {
   "cell_type": "code",
   "execution_count": 95,
   "metadata": {},
   "outputs": [],
   "source": [
    "missing_train_data = [col for col in train_df.columns if train_df[col].isna().any()]\n",
    "missing_test_data  = [col for col in submit_test_df.columns  if submit_test_df[col].isna().any()]"
   ]
  },
  {
   "cell_type": "code",
   "execution_count": 96,
   "metadata": {},
   "outputs": [],
   "source": [
    "from scipy import interpolate\n",
    "import pandas as pd\n",
    "\n",
    "def ensemble_interpolation(df, missing_cols):\n",
    "    df = df.copy().reset_index(drop=True)\n",
    "\n",
    "    for col in missing_cols:\n",
    "        series = df[col]\n",
    "        total_len = len(series)\n",
    "\n",
    "        lst_nan = series[series.isna()].index.tolist()\n",
    "        lst_val = series[series.notna()].index.tolist()\n",
    "\n",
    "        # 비결측값이 하나도 없으면 건너뛰기\n",
    "        if len(lst_val) == 0:\n",
    "            continue\n",
    "\n",
    "        # 사용할 보간 기법 선택\n",
    "        methods = ['previous', 'nearest', 'zero', 'slinear']\n",
    "        if len(lst_val) >= 3:\n",
    "            methods += ['quadratic', 'cubic']\n",
    "\n",
    "        # 함수 만들기\n",
    "        funcs = {}\n",
    "        for kind in methods:\n",
    "            funcs[kind] = interpolate.interp1d(\n",
    "                lst_val, series[lst_val],\n",
    "                kind=kind,\n",
    "                fill_value=\"extrapolate\",\n",
    "                assume_sorted=True\n",
    "            )\n",
    "\n",
    "        # 예측값 생성\n",
    "        df_interp = pd.DataFrame(\n",
    "            {kind: func(lst_nan) for kind, func in funcs.items()},\n",
    "            index=lst_nan\n",
    "        )\n",
    "\n",
    "        # mean 컬럼 생성\n",
    "        df_interp['mean'] = df_interp.mean(axis=1)\n",
    "\n",
    "        # 반영\n",
    "        df.loc[df_interp.index, col] = df_interp['mean']\n",
    "\n",
    "    return df"
   ]
  },
  {
   "cell_type": "code",
   "execution_count": 97,
   "metadata": {},
   "outputs": [],
   "source": [
    "# 보간 함수 호출\n",
    "train_df = ensemble_interpolation(train_df, missing_train_data)\n",
    "submit_test_df  = ensemble_interpolation(submit_test_df, missing_test_data)"
   ]
  },
  {
   "cell_type": "code",
   "execution_count": 98,
   "metadata": {},
   "outputs": [
    {
     "name": "stdout",
     "output_type": "stream",
     "text": [
      "Construction_PMI    204\n",
      "Services_PMI        204\n",
      "dtype: int64\n",
      "Series([], dtype: int64)\n"
     ]
    }
   ],
   "source": [
    "missing_data_1 = train_df.isnull().sum()\n",
    "missing_data_1 = missing_data_1[missing_data_1 > 0]\n",
    "print(missing_data_1)\n",
    "\n",
    "missing_data_2 = submit_test_df.isnull().sum()\n",
    "missing_data_2 = missing_data_2[missing_data_2 > 0]\n",
    "print(missing_data_2)"
   ]
  },
  {
   "cell_type": "markdown",
   "metadata": {},
   "source": [
    "결측치 밖에없는 칼럼은 삭제"
   ]
  },
  {
   "cell_type": "code",
   "execution_count": 61,
   "metadata": {},
   "outputs": [],
   "source": [
    "train_df = train_df.drop(['Construction_PMI', 'Services_PMI'], axis=1)"
   ]
  },
  {
   "cell_type": "markdown",
   "metadata": {},
   "source": [
    "# 모델링 함수 및 최적화 함수"
   ]
  },
  {
   "cell_type": "code",
   "execution_count": 62,
   "metadata": {},
   "outputs": [],
   "source": [
    "### Optuna study 저장 설정\n",
    "study_name = 'xgb_label_v1'\n",
    "db_dir = os.path.join(os.getcwd(), 'optuna')\n",
    "os.makedirs(db_dir, exist_ok=True)\n",
    "storage_name = f'sqlite:///{os.path.abspath(os.path.join(db_dir, f\"{study_name}.db\"))}'"
   ]
  },
  {
   "cell_type": "code",
   "execution_count": 63,
   "metadata": {},
   "outputs": [],
   "source": [
    "#타겟 분리 및 데이터 분할\n",
    "target_df = train_df['Natural_Gas_US_Henry_Hub_Gas']\n",
    "train_df = train_df.drop(columns=['date', 'Natural_Gas_US_Henry_Hub_Gas'])\n",
    "train_df, test_df, target_df, test_target_df = train_test_split(train_df, target_df, test_size = 0.2)"
   ]
  },
  {
   "cell_type": "code",
   "execution_count": 64,
   "metadata": {},
   "outputs": [],
   "source": [
    "# 모델별 objective 함수정의(XGBoost)\n",
    "def objectiveLR_xgb(trial: Trial, train_df, target_df, test_df, test_target_df):\n",
    "  params = {\n",
    "    'n_estimators': trial.suggest_int('n_estimators', 50, 1000),\n",
    "    'max_depth': trial.suggest_int('max_depth', 3, 30),\n",
    "    'learning_rate': trial.suggest_float('learning_rate', 0.001, 0.1, log=True),\n",
    "    'min_child_weight': trial.suggest_int('min_child_weight', 1, 7),\n",
    "    'subsample': trial.suggest_float('subsample', 0.6, 1.0),\n",
    "    'colsample_bytree': trial.suggest_float('colsample_bytree', 0.6, 1.0),\n",
    "    'gamma': trial.suggest_float('gamma', 1e-8, 1.0, log=True)\n",
    "  }\n",
    "  model = xgb.XGBRegressor(objective='reg:squarederror', **params)\n",
    "  model.fit(train_df, target_df)\n",
    "  predictions = model.predict(test_df)\n",
    "  rmse = np.sqrt(mean_squared_error(test_target_df, predictions))\n",
    "  return rmse\n",
    "\n",
    "# 모델별 objective 함수 정의 (Random Forest)\n",
    "def objectiveLR_rf(trial: Trial, train_df, target_df, test_df, test_target_df):\n",
    "  from sklearn.ensemble import RandomForestRegressor\n",
    "  params = {\n",
    "    'n_estimators': trial.suggest_int('n_estimators', 50, 1000),\n",
    "    'max_depth': trial.suggest_int('max_depth', 3, 30),\n",
    "    'min_samples_split': trial.suggest_int('min_samples_split', 2, 20),\n",
    "    'min_samples_leaf': trial.suggest_int('min_samples_leaf', 1, 10),\n",
    "    'max_features': trial.suggest_float('max_features', 0.1, 1.0)\n",
    "  }\n",
    "  model = RandomForestRegressor(**params, random_state=42, n_jobs=-1)\n",
    "  model.fit(train_df, target_df)\n",
    "  predictions = model.predict(test_df)\n",
    "  rmse = np.sqrt(mean_squared_error(test_target_df, predictions))\n",
    "  return rmse\n",
    "\n",
    "# 모델별 objective 함수 정의 (CatBoost)\n",
    "def objectiveLR_catboost(trial: Trial, train_df, target_df, test_df, test_target_df):\n",
    "  from catboost import CatBoostRegressor\n",
    "  params = {\n",
    "    'iterations': trial.suggest_int('iterations', 100, 1000),\n",
    "    'learning_rate': trial.suggest_float('learning_rate', 0.001, 0.1, log=True),\n",
    "    'depth': trial.suggest_int('depth', 4, 15),\n",
    "    'l2_leaf_reg': trial.suggest_float('l2_leaf_reg', 1e-8, 10.0, log=True),\n",
    "    'border_count': trial.suggest_int('border_count', 32, 255),\n",
    "    'bagging_temperature': trial.suggest_float('bagging_temperature', 0.0, 1.0)\n",
    "  }\n",
    "  model = CatBoostRegressor(**params, verbose=False, random_state=42)\n",
    "  model.fit(train_df, target_df)\n",
    "  predictions = model.predict(test_df)\n",
    "  rmse = np.sqrt(mean_squared_error(test_target_df, predictions))\n",
    "  return rmse"
   ]
  },
  {
   "cell_type": "code",
   "execution_count": 65,
   "metadata": {},
   "outputs": [],
   "source": [
    "# optuna 모델최적화 함수 정의\n",
    "def optimize_model(model_name, objective_func, train_df, target_df, test_df, test_target_df):\n",
    "    study_name = f'{model_name}_v1'\n",
    "    storage_name = f'sqlite:///optuna/{study_name}.db'\n",
    "    try:\n",
    "        study = optuna.create_study(\n",
    "            storage = storage_name,\n",
    "            direction='minimize',\n",
    "            sampler = TPESampler(multivariate=True, n_startup_trials=50, seed=42)\n",
    "        )\n",
    "        print(f'{model_name}: create new study')\n",
    "    except:\n",
    "        study = optuna.load_study(study_name = study_name, storage = storage_name)\n",
    "        print(f'{model_name}:load existing study')\n",
    "    \n",
    "    study.optimize(lambda trial:objective_func(trial, train_df, target_df, test_df, test_target_df), n_trials=50)\n",
    "    return study"
   ]
  },
  {
   "cell_type": "code",
   "execution_count": 66,
   "metadata": {},
   "outputs": [],
   "source": [
    "#최적화된 모델로 예측 수행 함수\n",
    "def get_optimized_predictions(model_name, study, train_df, target_df, test_df):\n",
    "    if model_name == 'xgb':\n",
    "        model = xgb.XGBRegressor(objective='reg:squarederror', **study.best_params)\n",
    "    elif model_name == 'rf':\n",
    "        from sklearn.ensemble import RandomForestRegressor\n",
    "        model = RandomForestRegressor(**study.best_params, random_state=42, n_jobs=-1)\n",
    "    else:\n",
    "        from catboost import CatBoostRegressor\n",
    "        model = CatBoostRegressor(**study.best_params, verbose=False, random_state=42)\n",
    "        \n",
    "    model.fit(train_df, target_df)\n",
    "    return model.predict(test_df)"
   ]
  },
  {
   "cell_type": "markdown",
   "metadata": {},
   "source": [
    "# 학습 및 예측 수행"
   ]
  },
  {
   "cell_type": "code",
   "execution_count": null,
   "metadata": {},
   "outputs": [
    {
     "name": "stdout",
     "output_type": "stream",
     "text": [
      "모델 최적화 시작\n"
     ]
    },
    {
     "name": "stderr",
     "output_type": "stream",
     "text": [
      "c:\\Users\\82106\\anaconda3\\lib\\site-packages\\optuna\\_experimental.py:31: ExperimentalWarning: Argument ``multivariate`` is an experimental feature. The interface can change in the future.\n",
      "  warnings.warn(\n",
      "[I 2025-04-23 02:46:54,610] A new study created in RDB with name: no-name-4a36d678-29af-4770-af7f-51bcec05dd38\n"
     ]
    },
    {
     "name": "stdout",
     "output_type": "stream",
     "text": [
      "xgb: create new study\n"
     ]
    },
    {
     "name": "stderr",
     "output_type": "stream",
     "text": [
      "[I 2025-04-23 02:46:57,272] Trial 0 finished with value: 0.7993141754366683 and parameters: {'n_estimators': 406, 'max_depth': 29, 'learning_rate': 0.029106359131330698, 'min_child_weight': 5, 'subsample': 0.6624074561769746, 'colsample_bytree': 0.662397808134481, 'gamma': 2.9152036385288193e-08}. Best is trial 0 with value: 0.7993141754366683.\n",
      "[I 2025-04-23 02:47:02,243] Trial 1 finished with value: 0.910577651573828 and parameters: {'n_estimators': 873, 'max_depth': 19, 'learning_rate': 0.02607024758370768, 'min_child_weight': 1, 'subsample': 0.9879639408647978, 'colsample_bytree': 0.9329770563201687, 'gamma': 4.997040685255803e-07}. Best is trial 0 with value: 0.7993141754366683.\n",
      "[I 2025-04-23 02:47:03,144] Trial 2 finished with value: 1.6469354137593049 and parameters: {'n_estimators': 222, 'max_depth': 8, 'learning_rate': 0.0040596116104843075, 'min_child_weight': 4, 'subsample': 0.7727780074568463, 'colsample_bytree': 0.7164916560792167, 'gamma': 0.000784915956255507}. Best is trial 0 with value: 0.7993141754366683.\n",
      "[I 2025-04-23 02:47:04,088] Trial 3 finished with value: 1.5366947669425508 and parameters: {'n_estimators': 182, 'max_depth': 11, 'learning_rate': 0.005404103854647328, 'min_child_weight': 4, 'subsample': 0.9140703845572055, 'colsample_bytree': 0.6798695128633439, 'gamma': 0.00012997969313168238}. Best is trial 0 with value: 0.7993141754366683.\n",
      "[I 2025-04-23 02:47:05,200] Trial 4 finished with value: 0.963970358758527 and parameters: {'n_estimators': 613, 'max_depth': 4, 'learning_rate': 0.016409286730647923, 'min_child_weight': 2, 'subsample': 0.6260206371941118, 'colsample_bytree': 0.9795542149013333, 'gamma': 0.530953226900921}. Best is trial 0 with value: 0.7993141754366683.\n",
      "[I 2025-04-23 02:47:07,691] Trial 5 finished with value: 1.4035383366320129 and parameters: {'n_estimators': 818, 'max_depth': 11, 'learning_rate': 0.0015679933916723015, 'min_child_weight': 5, 'subsample': 0.7760609974958406, 'colsample_bytree': 0.6488152939379115, 'gamma': 9.149877525022172e-05}. Best is trial 0 with value: 0.7993141754366683.\n",
      "[I 2025-04-23 02:47:08,080] Trial 6 finished with value: 2.3654159036669573 and parameters: {'n_estimators': 82, 'max_depth': 28, 'learning_rate': 0.0032927591344236173, 'min_child_weight': 5, 'subsample': 0.7246844304357644, 'colsample_bytree': 0.8080272084711243, 'gamma': 0.00023641892308789696}. Best is trial 0 with value: 0.7993141754366683.\n",
      "[I 2025-04-23 02:47:08,647] Trial 7 finished with value: 0.8141047160856993 and parameters: {'n_estimators': 225, 'max_depth': 30, 'learning_rate': 0.035503048581283086, 'min_child_weight': 7, 'subsample': 0.9579309401710595, 'colsample_bytree': 0.8391599915244341, 'gamma': 0.23713402899336497}. Best is trial 0 with value: 0.7993141754366683.\n",
      "[I 2025-04-23 02:47:09,248] Trial 8 finished with value: 2.5277318960765998 and parameters: {'n_estimators': 134, 'max_depth': 8, 'learning_rate': 0.0012315571723666018, 'min_child_weight': 3, 'subsample': 0.7554709158757928, 'colsample_bytree': 0.7085396127095583, 'gamma': 0.04264813784432918}. Best is trial 0 with value: 0.7993141754366683.\n",
      "[I 2025-04-23 02:47:10,265] Trial 9 finished with value: 0.9950955022302519 and parameters: {'n_estimators': 389, 'max_depth': 10, 'learning_rate': 0.012172847081122434, 'min_child_weight': 1, 'subsample': 0.9208787923016158, 'colsample_bytree': 0.6298202574719083, 'gamma': 0.7854083114461319}. Best is trial 0 with value: 0.7993141754366683.\n",
      "[I 2025-04-23 02:47:12,554] Trial 10 finished with value: 1.7159343163379261 and parameters: {'n_estimators': 784, 'max_depth': 8, 'learning_rate': 0.0010257563974185654, 'min_child_weight': 6, 'subsample': 0.8827429375390468, 'colsample_bytree': 0.8916028672163949, 'gamma': 0.014796628616069285}. Best is trial 0 with value: 0.7993141754366683.\n",
      "[I 2025-04-23 02:47:13,030] Trial 11 finished with value: 2.456812977884697 and parameters: {'n_estimators': 120, 'max_depth': 13, 'learning_rate': 0.0017050539260269294, 'min_child_weight': 7, 'subsample': 0.8493192507310232, 'colsample_bytree': 0.7323592099410596, 'gamma': 3.224532824812341e-08}. Best is trial 0 with value: 0.7993141754366683.\n",
      "[I 2025-04-23 02:47:14,697] Trial 12 finished with value: 0.7184612134837414 and parameters: {'n_estimators': 345, 'max_depth': 12, 'learning_rate': 0.02878805718308924, 'min_child_weight': 5, 'subsample': 0.9548850970305306, 'colsample_bytree': 0.7888859700647797, 'gamma': 9.052196389541886e-08}. Best is trial 12 with value: 0.7184612134837414.\n",
      "[I 2025-04-23 02:47:17,577] Trial 13 finished with value: 0.7875671153947323 and parameters: {'n_estimators': 728, 'max_depth': 24, 'learning_rate': 0.013260331922696548, 'min_child_weight': 6, 'subsample': 0.7975182385457563, 'colsample_bytree': 0.8090931317527976, 'gamma': 2.632256136809142e-05}. Best is trial 12 with value: 0.7184612134837414.\n",
      "[I 2025-04-23 02:47:18,066] Trial 14 finished with value: 2.6655066392554634 and parameters: {'n_estimators': 74, 'max_depth': 6, 'learning_rate': 0.001155735281626987, 'min_child_weight': 5, 'subsample': 0.7257423924305306, 'colsample_bytree': 0.8034282764658811, 'gamma': 0.1821930437934653}. Best is trial 12 with value: 0.7184612134837414.\n",
      "[I 2025-04-23 02:47:19,878] Trial 15 finished with value: 0.9339896054186462 and parameters: {'n_estimators': 287, 'max_depth': 14, 'learning_rate': 0.03244160088734161, 'min_child_weight': 2, 'subsample': 0.6307919639315172, 'colsample_bytree': 0.7159005811655073, 'gamma': 1.9488135833929595e-07}. Best is trial 12 with value: 0.7184612134837414.\n",
      "[I 2025-04-23 02:47:21,459] Trial 16 finished with value: 0.7751978966139533 and parameters: {'n_estimators': 934, 'max_depth': 25, 'learning_rate': 0.018484491720988625, 'min_child_weight': 7, 'subsample': 0.9214688307596458, 'colsample_bytree': 0.6746280235544143, 'gamma': 0.13818852711527843}. Best is trial 12 with value: 0.7184612134837414.\n",
      "[I 2025-04-23 02:47:23,921] Trial 17 finished with value: 0.8228325280352745 and parameters: {'n_estimators': 562, 'max_depth': 25, 'learning_rate': 0.06197015748809146, 'min_child_weight': 3, 'subsample': 0.6440207698110707, 'colsample_bytree': 0.6911740650167767, 'gamma': 2.6113333123958975e-05}. Best is trial 12 with value: 0.7184612134837414.\n",
      "[I 2025-04-23 02:47:26,824] Trial 18 finished with value: 1.6894124483880302 and parameters: {'n_estimators': 827, 'max_depth': 27, 'learning_rate': 0.0010325337616482041, 'min_child_weight': 4, 'subsample': 0.7669644012595116, 'colsample_bytree': 0.6888431241882921, 'gamma': 9.09751831698106e-08}. Best is trial 12 with value: 0.7184612134837414.\n",
      "[I 2025-04-23 02:47:28,124] Trial 19 finished with value: 1.1831649644092503 and parameters: {'n_estimators': 371, 'max_depth': 29, 'learning_rate': 0.004430021806767984, 'min_child_weight': 4, 'subsample': 0.881207583558071, 'colsample_bytree': 0.7454518409517176, 'gamma': 0.5946434805027183}. Best is trial 12 with value: 0.7184612134837414.\n",
      "[I 2025-04-23 02:47:32,091] Trial 20 finished with value: 0.8753395737420179 and parameters: {'n_estimators': 965, 'max_depth': 10, 'learning_rate': 0.009874088417386247, 'min_child_weight': 3, 'subsample': 0.713936197750987, 'colsample_bytree': 0.6147547789418131, 'gamma': 0.0007525141520487903}. Best is trial 12 with value: 0.7184612134837414.\n",
      "[I 2025-04-23 02:47:33,228] Trial 21 finished with value: 1.2412405057887093 and parameters: {'n_estimators': 528, 'max_depth': 4, 'learning_rate': 0.0036082193273637873, 'min_child_weight': 7, 'subsample': 0.695824756266789, 'colsample_bytree': 0.6579579488364892, 'gamma': 8.2342127198163e-05}. Best is trial 12 with value: 0.7184612134837414.\n",
      "[I 2025-04-23 02:47:36,822] Trial 22 finished with value: 0.7281937325923454 and parameters: {'n_estimators': 987, 'max_depth': 9, 'learning_rate': 0.022093834415066283, 'min_child_weight': 6, 'subsample': 0.6950550175969599, 'colsample_bytree': 0.8912865394447438, 'gamma': 8.755179646617154e-06}. Best is trial 12 with value: 0.7184612134837414.\n",
      "[I 2025-04-23 02:47:42,495] Trial 23 finished with value: 0.9842085550099313 and parameters: {'n_estimators': 651, 'max_depth': 20, 'learning_rate': 0.011790965486776316, 'min_child_weight': 1, 'subsample': 0.9341209982356952, 'colsample_bytree': 0.7283120259886944, 'gamma': 3.105618343239014e-07}. Best is trial 12 with value: 0.7184612134837414.\n",
      "[I 2025-04-23 02:47:43,273] Trial 24 finished with value: 1.3140403584730427 and parameters: {'n_estimators': 88, 'max_depth': 19, 'learning_rate': 0.02265315641394887, 'min_child_weight': 1, 'subsample': 0.8048372233197124, 'colsample_bytree': 0.6905983100791752, 'gamma': 0.0014500478151396093}. Best is trial 12 with value: 0.7184612134837414.\n",
      "[I 2025-04-23 02:47:44,028] Trial 25 finished with value: 1.4892101168087153 and parameters: {'n_estimators': 215, 'max_depth': 22, 'learning_rate': 0.005935682912014687, 'min_child_weight': 7, 'subsample': 0.6550083776583973, 'colsample_bytree': 0.7364265404201034, 'gamma': 8.087013534020705e-08}. Best is trial 12 with value: 0.7184612134837414.\n",
      "[I 2025-04-23 02:47:48,207] Trial 26 finished with value: 0.8555406246625553 and parameters: {'n_estimators': 929, 'max_depth': 27, 'learning_rate': 0.0032800710825785337, 'min_child_weight': 5, 'subsample': 0.9268888800804863, 'colsample_bytree': 0.822080324639785, 'gamma': 0.0001726651247889248}. Best is trial 12 with value: 0.7184612134837414.\n",
      "[I 2025-04-23 02:47:48,988] Trial 27 finished with value: 0.780218273173152 and parameters: {'n_estimators': 280, 'max_depth': 5, 'learning_rate': 0.06229189113188561, 'min_child_weight': 7, 'subsample': 0.8532405829093072, 'colsample_bytree': 0.7356119164194803, 'gamma': 6.218370535731491e-06}. Best is trial 12 with value: 0.7184612134837414.\n",
      "[I 2025-04-23 02:47:51,940] Trial 28 finished with value: 0.8149649242083096 and parameters: {'n_estimators': 740, 'max_depth': 28, 'learning_rate': 0.05945287330479987, 'min_child_weight': 6, 'subsample': 0.8568126584617151, 'colsample_bytree': 0.6336559859980195, 'gamma': 1.9634946069845978e-07}. Best is trial 12 with value: 0.7184612134837414.\n",
      "[I 2025-04-23 02:47:56,346] Trial 29 finished with value: 1.697242721695775 and parameters: {'n_estimators': 904, 'max_depth': 19, 'learning_rate': 0.0010432637161302094, 'min_child_weight': 1, 'subsample': 0.8654007076432223, 'colsample_bytree': 0.6020246335384875, 'gamma': 1.9340353658219098e-07}. Best is trial 12 with value: 0.7184612134837414.\n",
      "[I 2025-04-23 02:48:00,266] Trial 30 finished with value: 0.9466851225202527 and parameters: {'n_estimators': 571, 'max_depth': 22, 'learning_rate': 0.02013365020244047, 'min_child_weight': 2, 'subsample': 0.8848716885390143, 'colsample_bytree': 0.69489963499872, 'gamma': 4.010491362023556e-06}. Best is trial 12 with value: 0.7184612134837414.\n",
      "[I 2025-04-23 02:48:03,145] Trial 31 finished with value: 0.7540229320099624 and parameters: {'n_estimators': 759, 'max_depth': 21, 'learning_rate': 0.04993980255757075, 'min_child_weight': 5, 'subsample': 0.8273234413341887, 'colsample_bytree': 0.637469907131237, 'gamma': 8.74432769454909e-06}. Best is trial 12 with value: 0.7184612134837414.\n",
      "[I 2025-04-23 02:48:03,829] Trial 32 finished with value: 0.9430199254581328 and parameters: {'n_estimators': 302, 'max_depth': 9, 'learning_rate': 0.0883122824824253, 'min_child_weight': 3, 'subsample': 0.9568186220708453, 'colsample_bytree': 0.8524554503989051, 'gamma': 0.022829186095635116}. Best is trial 12 with value: 0.7184612134837414.\n",
      "[I 2025-04-23 02:48:07,158] Trial 33 finished with value: 0.9732047760448466 and parameters: {'n_estimators': 528, 'max_depth': 19, 'learning_rate': 0.009661295989662243, 'min_child_weight': 2, 'subsample': 0.888980846104602, 'colsample_bytree': 0.7123089449763423, 'gamma': 1.5650482506677817e-08}. Best is trial 12 with value: 0.7184612134837414.\n",
      "[I 2025-04-23 02:48:09,098] Trial 34 finished with value: 0.6626900788382647 and parameters: {'n_estimators': 663, 'max_depth': 7, 'learning_rate': 0.07601812767003316, 'min_child_weight': 7, 'subsample': 0.9659457560881795, 'colsample_bytree': 0.7480634801021777, 'gamma': 1.3293916059750427e-08}. Best is trial 34 with value: 0.6626900788382647.\n",
      "[I 2025-04-23 02:48:12,104] Trial 35 finished with value: 0.7235624304650535 and parameters: {'n_estimators': 932, 'max_depth': 14, 'learning_rate': 0.0857649103704616, 'min_child_weight': 7, 'subsample': 0.941203782186944, 'colsample_bytree': 0.7177795568278342, 'gamma': 1.2044307332953856e-05}. Best is trial 34 with value: 0.6626900788382647.\n",
      "[I 2025-04-23 02:48:15,895] Trial 36 finished with value: 1.05136421845795 and parameters: {'n_estimators': 859, 'max_depth': 11, 'learning_rate': 0.002182657003890118, 'min_child_weight': 4, 'subsample': 0.9744619096643123, 'colsample_bytree': 0.8784119186699892, 'gamma': 0.0003634873997738577}. Best is trial 34 with value: 0.6626900788382647.\n",
      "[I 2025-04-23 02:48:16,752] Trial 37 finished with value: 0.9538381591055279 and parameters: {'n_estimators': 142, 'max_depth': 20, 'learning_rate': 0.09552294429449876, 'min_child_weight': 1, 'subsample': 0.8073318609454947, 'colsample_bytree': 0.9509492287711822, 'gamma': 0.008436240304589383}. Best is trial 34 with value: 0.6626900788382647.\n",
      "[I 2025-04-23 02:48:19,568] Trial 38 finished with value: 0.9489087144347904 and parameters: {'n_estimators': 712, 'max_depth': 22, 'learning_rate': 0.005235791002299295, 'min_child_weight': 3, 'subsample': 0.9237444621914055, 'colsample_bytree': 0.9240453578716723, 'gamma': 0.08641289371707529}. Best is trial 34 with value: 0.6626900788382647.\n",
      "[I 2025-04-23 02:48:22,005] Trial 39 finished with value: 0.7807913062490894 and parameters: {'n_estimators': 918, 'max_depth': 17, 'learning_rate': 0.010070072316456572, 'min_child_weight': 6, 'subsample': 0.8599855723111061, 'colsample_bytree': 0.8807867509030813, 'gamma': 0.02324563185295151}. Best is trial 34 with value: 0.6626900788382647.\n",
      "[I 2025-04-23 02:48:28,118] Trial 40 finished with value: 1.021753420823528 and parameters: {'n_estimators': 896, 'max_depth': 12, 'learning_rate': 0.005638530127559432, 'min_child_weight': 1, 'subsample': 0.8313120563984696, 'colsample_bytree': 0.6143769095186968, 'gamma': 5.3062064728788974e-05}. Best is trial 34 with value: 0.6626900788382647.\n",
      "[I 2025-04-23 02:48:31,398] Trial 41 finished with value: 0.9737270074757299 and parameters: {'n_estimators': 566, 'max_depth': 11, 'learning_rate': 0.015193804050042248, 'min_child_weight': 1, 'subsample': 0.6149392754996857, 'colsample_bytree': 0.9290402242638633, 'gamma': 7.6124618871412325e-06}. Best is trial 34 with value: 0.6626900788382647.\n",
      "[I 2025-04-23 02:48:32,411] Trial 42 finished with value: 0.9628158054064584 and parameters: {'n_estimators': 170, 'max_depth': 17, 'learning_rate': 0.034672655630792186, 'min_child_weight': 2, 'subsample': 0.8491561903276001, 'colsample_bytree': 0.6341389859975072, 'gamma': 2.59091860336806e-08}. Best is trial 34 with value: 0.6626900788382647.\n",
      "[I 2025-04-23 02:48:34,578] Trial 43 finished with value: 0.7756250248903085 and parameters: {'n_estimators': 555, 'max_depth': 18, 'learning_rate': 0.01883041116446474, 'min_child_weight': 6, 'subsample': 0.9903408317850139, 'colsample_bytree': 0.8065201393204782, 'gamma': 3.83399713075831e-06}. Best is trial 34 with value: 0.6626900788382647.\n",
      "[I 2025-04-23 02:48:36,933] Trial 44 finished with value: 1.0003032622976913 and parameters: {'n_estimators': 806, 'max_depth': 10, 'learning_rate': 0.007549928546183033, 'min_child_weight': 1, 'subsample': 0.610140297366183, 'colsample_bytree': 0.98505936587117, 'gamma': 0.04873499929269755}. Best is trial 34 with value: 0.6626900788382647.\n",
      "[I 2025-04-23 02:48:39,350] Trial 45 finished with value: 1.3504040939890416 and parameters: {'n_estimators': 711, 'max_depth': 14, 'learning_rate': 0.0022212049883899364, 'min_child_weight': 2, 'subsample': 0.7000971592658382, 'colsample_bytree': 0.8196906658824482, 'gamma': 0.005209156216369749}. Best is trial 34 with value: 0.6626900788382647.\n",
      "[I 2025-04-23 02:48:41,032] Trial 46 finished with value: 0.7122298479260805 and parameters: {'n_estimators': 677, 'max_depth': 10, 'learning_rate': 0.08123263880610655, 'min_child_weight': 6, 'subsample': 0.8217416210045603, 'colsample_bytree': 0.8446882984937409, 'gamma': 2.2740525659693076e-05}. Best is trial 34 with value: 0.6626900788382647.\n",
      "[I 2025-04-23 02:48:42,609] Trial 47 finished with value: 0.9339344851926863 and parameters: {'n_estimators': 285, 'max_depth': 12, 'learning_rate': 0.032786285845111236, 'min_child_weight': 1, 'subsample': 0.6464290562027665, 'colsample_bytree': 0.618401056808701, 'gamma': 2.1175341281436913e-08}. Best is trial 34 with value: 0.6626900788382647.\n",
      "[I 2025-04-23 02:48:48,115] Trial 48 finished with value: 0.9605987314017153 and parameters: {'n_estimators': 863, 'max_depth': 22, 'learning_rate': 0.008878664758716846, 'min_child_weight': 1, 'subsample': 0.7966463500467329, 'colsample_bytree': 0.7893887083122263, 'gamma': 2.430048599323117e-07}. Best is trial 34 with value: 0.6626900788382647.\n",
      "[I 2025-04-23 02:48:49,628] Trial 49 finished with value: 0.8369690530427983 and parameters: {'n_estimators': 462, 'max_depth': 14, 'learning_rate': 0.01704905045837719, 'min_child_weight': 5, 'subsample': 0.6181216039088178, 'colsample_bytree': 0.7498450458505885, 'gamma': 0.0010159663543783963}. Best is trial 34 with value: 0.6626900788382647.\n",
      "c:\\Users\\82106\\anaconda3\\lib\\site-packages\\optuna\\_experimental.py:31: ExperimentalWarning: Argument ``multivariate`` is an experimental feature. The interface can change in the future.\n",
      "  warnings.warn(\n",
      "[I 2025-04-23 02:48:49,695] A new study created in RDB with name: no-name-4425df07-eb07-4e9c-bb37-1db672257484\n"
     ]
    },
    {
     "name": "stdout",
     "output_type": "stream",
     "text": [
      "rf: create new study\n"
     ]
    },
    {
     "name": "stderr",
     "output_type": "stream",
     "text": [
      "[I 2025-04-23 02:48:50,617] Trial 0 finished with value: 1.1940686139149606 and parameters: {'n_estimators': 406, 'max_depth': 29, 'min_samples_split': 15, 'min_samples_leaf': 6, 'max_features': 0.24041677639819287}. Best is trial 0 with value: 1.1940686139149606.\n",
      "[I 2025-04-23 02:48:50,976] Trial 1 finished with value: 1.1307802970308067 and parameters: {'n_estimators': 198, 'max_depth': 4, 'min_samples_split': 18, 'min_samples_leaf': 7, 'max_features': 0.737265320016441}. Best is trial 1 with value: 1.1307802970308067.\n",
      "[I 2025-04-23 02:48:51,214] Trial 2 finished with value: 1.1560128620576506 and parameters: {'n_estimators': 69, 'max_depth': 30, 'min_samples_split': 17, 'min_samples_leaf': 3, 'max_features': 0.26364247048639056}. Best is trial 1 with value: 1.1307802970308067.\n",
      "[I 2025-04-23 02:48:51,588] Trial 3 finished with value: 1.1219128280178163 and parameters: {'n_estimators': 224, 'max_depth': 11, 'min_samples_split': 11, 'min_samples_leaf': 5, 'max_features': 0.36210622617823773}. Best is trial 3 with value: 1.1219128280178163.\n",
      "[I 2025-04-23 02:48:52,415] Trial 4 finished with value: 1.0333462274223728 and parameters: {'n_estimators': 631, 'max_depth': 6, 'min_samples_split': 7, 'min_samples_leaf': 4, 'max_features': 0.5104629857953323}. Best is trial 4 with value: 1.0333462274223728.\n",
      "[I 2025-04-23 02:48:53,590] Trial 5 finished with value: 1.222534976063275 and parameters: {'n_estimators': 796, 'max_depth': 8, 'min_samples_split': 11, 'min_samples_leaf': 6, 'max_features': 0.14180537144799796}. Best is trial 4 with value: 1.0333462274223728.\n",
      "[I 2025-04-23 02:48:54,743] Trial 6 finished with value: 1.2233868592658481 and parameters: {'n_estimators': 627, 'max_depth': 7, 'min_samples_split': 3, 'min_samples_leaf': 10, 'max_features': 0.9690688297671034}. Best is trial 4 with value: 1.0333462274223728.\n",
      "[I 2025-04-23 02:48:56,342] Trial 7 finished with value: 1.1529905259413231 and parameters: {'n_estimators': 818, 'max_depth': 11, 'min_samples_split': 3, 'min_samples_leaf': 7, 'max_features': 0.4961372443656412}. Best is trial 4 with value: 1.0333462274223728.\n",
      "[I 2025-04-23 02:48:56,880] Trial 8 finished with value: 1.2958099517225232 and parameters: {'n_estimators': 166, 'max_depth': 16, 'min_samples_split': 2, 'min_samples_leaf': 10, 'max_features': 0.3329019834400152}. Best is trial 4 with value: 1.0333462274223728.\n",
      "[I 2025-04-23 02:48:58,257] Trial 9 finished with value: 1.1616503613113651 and parameters: {'n_estimators': 680, 'max_depth': 11, 'min_samples_split': 11, 'min_samples_leaf': 6, 'max_features': 0.26636900997297436}. Best is trial 4 with value: 1.0333462274223728.\n",
      "[I 2025-04-23 02:48:59,751] Trial 10 finished with value: 1.2092517236983764 and parameters: {'n_estimators': 972, 'max_depth': 24, 'min_samples_split': 19, 'min_samples_leaf': 9, 'max_features': 0.6381099809299766}. Best is trial 4 with value: 1.0333462274223728.\n",
      "[I 2025-04-23 02:49:01,140] Trial 11 finished with value: 1.018691374894825 and parameters: {'n_estimators': 926, 'max_depth': 5, 'min_samples_split': 5, 'min_samples_leaf': 1, 'max_features': 0.39279729768693794}. Best is trial 11 with value: 1.018691374894825.\n",
      "[I 2025-04-23 02:49:01,828] Trial 12 finished with value: 1.1552680454682758 and parameters: {'n_estimators': 419, 'max_depth': 10, 'min_samples_split': 17, 'min_samples_leaf': 4, 'max_features': 0.3528410587186427}. Best is trial 11 with value: 1.018691374894825.\n",
      "[I 2025-04-23 02:49:02,910] Trial 13 finished with value: 1.1003791978547135 and parameters: {'n_estimators': 566, 'max_depth': 6, 'min_samples_split': 17, 'min_samples_leaf': 1, 'max_features': 0.9881982429404655}. Best is trial 11 with value: 1.018691374894825.\n",
      "[I 2025-04-23 02:49:04,072] Trial 14 finished with value: 1.1879574733543328 and parameters: {'n_estimators': 784, 'max_depth': 8, 'min_samples_split': 2, 'min_samples_leaf': 9, 'max_features': 0.7361716094628554}. Best is trial 11 with value: 1.018691374894825.\n",
      "[I 2025-04-23 02:49:04,997] Trial 15 finished with value: 1.1042398535625602 and parameters: {'n_estimators': 743, 'max_depth': 24, 'min_samples_split': 3, 'min_samples_leaf': 4, 'max_features': 0.20428215357261675}. Best is trial 11 with value: 1.018691374894825.\n",
      "[I 2025-04-23 02:49:06,229] Trial 16 finished with value: 1.044789952276985 and parameters: {'n_estimators': 870, 'max_depth': 20, 'min_samples_split': 8, 'min_samples_leaf': 1, 'max_features': 0.379884089544096}. Best is trial 11 with value: 1.018691374894825.\n",
      "[I 2025-04-23 02:49:06,768] Trial 17 finished with value: 1.2130128631707164 and parameters: {'n_estimators': 359, 'max_depth': 23, 'min_samples_split': 14, 'min_samples_leaf': 9, 'max_features': 0.5249934326457544}. Best is trial 11 with value: 1.018691374894825.\n",
      "[I 2025-04-23 02:49:07,110] Trial 18 finished with value: 1.0764157153749745 and parameters: {'n_estimators': 163, 'max_depth': 22, 'min_samples_split': 16, 'min_samples_leaf': 6, 'max_features': 0.7938704619591049}. Best is trial 11 with value: 1.018691374894825.\n",
      "[I 2025-04-23 02:49:07,825] Trial 19 finished with value: 1.085625549033828 and parameters: {'n_estimators': 519, 'max_depth': 17, 'min_samples_split': 10, 'min_samples_leaf': 1, 'max_features': 0.19710228429397403}. Best is trial 11 with value: 1.018691374894825.\n",
      "[I 2025-04-23 02:49:08,087] Trial 20 finished with value: 1.0560852273327952 and parameters: {'n_estimators': 79, 'max_depth': 20, 'min_samples_split': 7, 'min_samples_leaf': 6, 'max_features': 0.9168098265334838}. Best is trial 11 with value: 1.018691374894825.\n",
      "[I 2025-04-23 02:49:08,504] Trial 21 finished with value: 1.1836816272495434 and parameters: {'n_estimators': 287, 'max_depth': 14, 'min_samples_split': 16, 'min_samples_leaf': 3, 'max_features': 0.1692819188459137}. Best is trial 11 with value: 1.018691374894825.\n",
      "[I 2025-04-23 02:49:09,127] Trial 22 finished with value: 1.2000845156586075 and parameters: {'n_estimators': 325, 'max_depth': 7, 'min_samples_split': 19, 'min_samples_leaf': 9, 'max_features': 0.6700633808593811}. Best is trial 11 with value: 1.018691374894825.\n",
      "[I 2025-04-23 02:49:10,426] Trial 23 finished with value: 1.2261659570089358 and parameters: {'n_estimators': 878, 'max_depth': 25, 'min_samples_split': 5, 'min_samples_leaf': 9, 'max_features': 0.5854080177240857}. Best is trial 11 with value: 1.018691374894825.\n",
      "[I 2025-04-23 02:49:11,426] Trial 24 finished with value: 1.0685036076151684 and parameters: {'n_estimators': 817, 'max_depth': 28, 'min_samples_split': 8, 'min_samples_leaf': 2, 'max_features': 0.30514164628774754}. Best is trial 11 with value: 1.018691374894825.\n",
      "[I 2025-04-23 02:49:12,089] Trial 25 finished with value: 1.106765751535303 and parameters: {'n_estimators': 456, 'max_depth': 25, 'min_samples_split': 18, 'min_samples_leaf': 1, 'max_features': 0.5596725723198092}. Best is trial 11 with value: 1.018691374894825.\n",
      "[I 2025-04-23 02:49:12,843] Trial 26 finished with value: 0.9771952084007923 and parameters: {'n_estimators': 446, 'max_depth': 9, 'min_samples_split': 4, 'min_samples_leaf': 4, 'max_features': 0.9486187335212672}. Best is trial 26 with value: 0.9771952084007923.\n",
      "[I 2025-04-23 02:49:13,498] Trial 27 finished with value: 1.0429440029952466 and parameters: {'n_estimators': 357, 'max_depth': 17, 'min_samples_split': 15, 'min_samples_leaf': 4, 'max_features': 0.9746038744488646}. Best is trial 26 with value: 0.9771952084007923.\n",
      "[I 2025-04-23 02:49:14,713] Trial 28 finished with value: 1.0936329495085984 and parameters: {'n_estimators': 965, 'max_depth': 10, 'min_samples_split': 11, 'min_samples_leaf': 4, 'max_features': 0.35635644493972085}. Best is trial 26 with value: 0.9771952084007923.\n",
      "[I 2025-04-23 02:49:14,958] Trial 29 finished with value: 1.1395121226682914 and parameters: {'n_estimators': 85, 'max_depth': 20, 'min_samples_split': 11, 'min_samples_leaf': 1, 'max_features': 0.35078181781295026}. Best is trial 26 with value: 0.9771952084007923.\n",
      "[I 2025-04-23 02:49:16,280] Trial 30 finished with value: 1.0302000887730467 and parameters: {'n_estimators': 913, 'max_depth': 9, 'min_samples_split': 4, 'min_samples_leaf': 5, 'max_features': 0.9870854086995406}. Best is trial 26 with value: 0.9771952084007923.\n",
      "[I 2025-04-23 02:49:16,749] Trial 31 finished with value: 1.1046847854024044 and parameters: {'n_estimators': 280, 'max_depth': 21, 'min_samples_split': 16, 'min_samples_leaf': 3, 'max_features': 0.7553947137506736}. Best is trial 26 with value: 0.9771952084007923.\n",
      "[I 2025-04-23 02:49:17,402] Trial 32 finished with value: 1.202091733019986 and parameters: {'n_estimators': 399, 'max_depth': 20, 'min_samples_split': 14, 'min_samples_leaf': 6, 'max_features': 0.18126079304896747}. Best is trial 26 with value: 0.9771952084007923.\n",
      "[I 2025-04-23 02:49:18,649] Trial 33 finished with value: 0.9697562759919172 and parameters: {'n_estimators': 844, 'max_depth': 11, 'min_samples_split': 5, 'min_samples_leaf': 1, 'max_features': 0.6318036488694176}. Best is trial 33 with value: 0.9697562759919172.\n",
      "[I 2025-04-23 02:49:19,526] Trial 34 finished with value: 1.1096403499531133 and parameters: {'n_estimators': 694, 'max_depth': 3, 'min_samples_split': 11, 'min_samples_leaf': 3, 'max_features': 0.6806555113685049}. Best is trial 33 with value: 0.9697562759919172.\n",
      "[I 2025-04-23 02:49:19,890] Trial 35 finished with value: 1.3414985607040613 and parameters: {'n_estimators': 215, 'max_depth': 22, 'min_samples_split': 9, 'min_samples_leaf': 10, 'max_features': 0.22376884973139394}. Best is trial 33 with value: 0.9697562759919172.\n",
      "[I 2025-04-23 02:49:20,437] Trial 36 finished with value: 1.2623767463699491 and parameters: {'n_estimators': 374, 'max_depth': 6, 'min_samples_split': 19, 'min_samples_leaf': 9, 'max_features': 0.33214746494364006}. Best is trial 33 with value: 0.9697562759919172.\n",
      "[I 2025-04-23 02:49:21,332] Trial 37 finished with value: 1.1524709438348921 and parameters: {'n_estimators': 677, 'max_depth': 25, 'min_samples_split': 12, 'min_samples_leaf': 6, 'max_features': 0.3176670618104065}. Best is trial 33 with value: 0.9697562759919172.\n",
      "[I 2025-04-23 02:49:21,620] Trial 38 finished with value: 1.1776695975894418 and parameters: {'n_estimators': 138, 'max_depth': 28, 'min_samples_split': 19, 'min_samples_leaf': 7, 'max_features': 0.4051268119438306}. Best is trial 33 with value: 0.9697562759919172.\n",
      "[I 2025-04-23 02:49:22,209] Trial 39 finished with value: 1.1738684480395525 and parameters: {'n_estimators': 382, 'max_depth': 23, 'min_samples_split': 19, 'min_samples_leaf': 9, 'max_features': 0.8018879912718615}. Best is trial 33 with value: 0.9697562759919172.\n",
      "[I 2025-04-23 02:49:23,032] Trial 40 finished with value: 1.213952422775461 and parameters: {'n_estimators': 660, 'max_depth': 5, 'min_samples_split': 5, 'min_samples_leaf': 9, 'max_features': 0.6457861536936309}. Best is trial 33 with value: 0.9697562759919172.\n",
      "[I 2025-04-23 02:49:23,256] Trial 41 finished with value: 1.178842328542035 and parameters: {'n_estimators': 58, 'max_depth': 5, 'min_samples_split': 14, 'min_samples_leaf': 1, 'max_features': 0.2447272462757488}. Best is trial 33 with value: 0.9697562759919172.\n",
      "[I 2025-04-23 02:49:24,031] Trial 42 finished with value: 1.1028229311477709 and parameters: {'n_estimators': 571, 'max_depth': 22, 'min_samples_split': 14, 'min_samples_leaf': 3, 'max_features': 0.7409612992127823}. Best is trial 33 with value: 0.9697562759919172.\n",
      "[I 2025-04-23 02:49:24,533] Trial 43 finished with value: 1.0816123567647844 and parameters: {'n_estimators': 275, 'max_depth': 12, 'min_samples_split': 16, 'min_samples_leaf': 7, 'max_features': 0.8643010694447602}. Best is trial 33 with value: 0.9697562759919172.\n",
      "[I 2025-04-23 02:49:25,379] Trial 44 finished with value: 1.049838437427456 and parameters: {'n_estimators': 675, 'max_depth': 18, 'min_samples_split': 3, 'min_samples_leaf': 4, 'max_features': 0.3386821309135529}. Best is trial 33 with value: 0.9697562759919172.\n",
      "[I 2025-04-23 02:49:25,869] Trial 45 finished with value: 1.2003997762248186 and parameters: {'n_estimators': 282, 'max_depth': 30, 'min_samples_split': 9, 'min_samples_leaf': 9, 'max_features': 0.6680247633975366}. Best is trial 33 with value: 0.9697562759919172.\n",
      "[I 2025-04-23 02:49:26,913] Trial 46 finished with value: 1.151428373746236 and parameters: {'n_estimators': 805, 'max_depth': 17, 'min_samples_split': 12, 'min_samples_leaf': 5, 'max_features': 0.27571868901824004}. Best is trial 33 with value: 0.9697562759919172.\n",
      "[I 2025-04-23 02:49:27,871] Trial 47 finished with value: 1.1903974606134844 and parameters: {'n_estimators': 737, 'max_depth': 10, 'min_samples_split': 2, 'min_samples_leaf': 7, 'max_features': 0.25939961146634405}. Best is trial 33 with value: 0.9697562759919172.\n",
      "[I 2025-04-23 02:49:28,998] Trial 48 finished with value: 1.2939519711141196 and parameters: {'n_estimators': 944, 'max_depth': 29, 'min_samples_split': 19, 'min_samples_leaf': 4, 'max_features': 0.11391095487598069}. Best is trial 33 with value: 0.9697562759919172.\n",
      "[I 2025-04-23 02:49:30,178] Trial 49 finished with value: 1.240457946307233 and parameters: {'n_estimators': 932, 'max_depth': 14, 'min_samples_split': 20, 'min_samples_leaf': 10, 'max_features': 0.8677085099206241}. Best is trial 33 with value: 0.9697562759919172.\n",
      "c:\\Users\\82106\\anaconda3\\lib\\site-packages\\optuna\\_experimental.py:31: ExperimentalWarning: Argument ``multivariate`` is an experimental feature. The interface can change in the future.\n",
      "  warnings.warn(\n",
      "[I 2025-04-23 02:49:30,235] A new study created in RDB with name: no-name-ae1fae3b-cd90-4231-8fe1-efc5b8300e16\n"
     ]
    },
    {
     "name": "stdout",
     "output_type": "stream",
     "text": [
      "catboost: create new study\n"
     ]
    },
    {
     "name": "stderr",
     "output_type": "stream",
     "text": [
      "[I 2025-04-23 02:50:45,865] Trial 0 finished with value: 1.483143769540276 and parameters: {'iterations': 437, 'learning_rate': 0.07969454818643935, 'depth': 12, 'l2_leaf_reg': 0.0024430162614261413, 'border_count': 66, 'bagging_temperature': 0.15599452033620265}. Best is trial 0 with value: 1.483143769540276.\n",
      "[I 2025-04-23 02:50:52,906] Trial 1 finished with value: 1.4575447273173245 and parameters: {'iterations': 152, 'learning_rate': 0.05399484409787434, 'depth': 11, 'l2_leaf_reg': 0.023585940584142682, 'border_count': 36, 'bagging_temperature': 0.9699098521619943}. Best is trial 1 with value: 1.4575447273173245.\n",
      "[I 2025-04-23 02:50:58,616] Trial 2 finished with value: 1.2186952843547827 and parameters: {'iterations': 850, 'learning_rate': 0.0026587543983272706, 'depth': 6, 'l2_leaf_reg': 4.4734294104626844e-07, 'border_count': 100, 'bagging_temperature': 0.5247564316322378}. Best is trial 2 with value: 1.2186952843547827.\n",
      "[I 2025-04-23 02:51:53,877] Trial 3 finished with value: 1.5405083266566526 and parameters: {'iterations': 489, 'learning_rate': 0.0038234752246751854, 'depth': 11, 'l2_leaf_reg': 1.8007140198129195e-07, 'border_count': 97, 'bagging_temperature': 0.3663618432936917}. Best is trial 2 with value: 1.2186952843547827.\n",
      "[I 2025-04-23 02:51:58,630] Trial 4 finished with value: 0.9164550754639341 and parameters: {'iterations': 510, 'learning_rate': 0.037183641805732096, 'depth': 6, 'l2_leaf_reg': 0.00042472707398058225, 'border_count': 164, 'bagging_temperature': 0.046450412719997725}. Best is trial 4 with value: 0.9164550754639341.\n",
      "[I 2025-04-23 02:52:01,256] Trial 5 finished with value: 1.74220041798008 and parameters: {'iterations': 647, 'learning_rate': 0.002193048555664369, 'depth': 4, 'l2_leaf_reg': 3.4671276804481113, 'border_count': 248, 'bagging_temperature': 0.8083973481164611}. Best is trial 4 with value: 0.9164550754639341.\n",
      "[I 2025-04-23 02:53:02,651] Trial 6 finished with value: 2.1679942830595413 and parameters: {'iterations': 374, 'learning_rate': 0.0015679933916723015, 'depth': 12, 'l2_leaf_reg': 9.148975058772307e-05, 'border_count': 59, 'bagging_temperature': 0.4951769101112702}. Best is trial 4 with value: 0.9164550754639341.\n",
      "[I 2025-04-23 02:53:04,459] Trial 7 finished with value: 1.049990422252194 and parameters: {'iterations': 130, 'learning_rate': 0.06586289317583113, 'depth': 7, 'l2_leaf_reg': 0.009176996354542699, 'border_count': 101, 'bagging_temperature': 0.5200680211778108}. Best is trial 4 with value: 0.9164550754639341.\n",
      "[I 2025-04-23 03:13:12,774] Trial 8 finished with value: 1.8828108595020672 and parameters: {'iterations': 592, 'learning_rate': 0.0023426581058204046, 'depth': 15, 'l2_leaf_reg': 0.09466630153726856, 'border_count': 242, 'bagging_temperature': 0.8948273504276488}. Best is trial 4 with value: 0.9164550754639341.\n",
      "[I 2025-04-23 03:13:14,235] Trial 9 finished with value: 0.8200585628776436 and parameters: {'iterations': 638, 'learning_rate': 0.06978281265126034, 'depth': 5, 'l2_leaf_reg': 5.805581976088804e-07, 'border_count': 42, 'bagging_temperature': 0.32533033076326434}. Best is trial 9 with value: 0.8200585628776436.\n",
      "[I 2025-04-23 03:16:15,805] Trial 10 finished with value: 1.7261981420240056 and parameters: {'iterations': 450, 'learning_rate': 0.003488976654890368, 'depth': 13, 'l2_leaf_reg': 1.6247252885719427e-05, 'border_count': 94, 'bagging_temperature': 0.5426960831582485}. Best is trial 9 with value: 0.8200585628776436.\n",
      "[I 2025-04-23 03:16:16,646] Trial 11 finished with value: 1.0929713900463027 and parameters: {'iterations': 226, 'learning_rate': 0.040215545266902894, 'depth': 4, 'l2_leaf_reg': 7.620481786158549, 'border_count': 204, 'bagging_temperature': 0.1987156815341724}. Best is trial 9 with value: 0.8200585628776436.\n",
      "[I 2025-04-23 03:16:51,475] Trial 12 finished with value: 1.5466573225176288 and parameters: {'iterations': 104, 'learning_rate': 0.04274869455295218, 'depth': 12, 'l2_leaf_reg': 0.03639690979811287, 'border_count': 204, 'bagging_temperature': 0.07404465173409036}. Best is trial 9 with value: 0.8200585628776436.\n",
      "[I 2025-04-23 03:22:38,061] Trial 13 finished with value: 2.092104567506324 and parameters: {'iterations': 422, 'learning_rate': 0.0017050539260269294, 'depth': 14, 'l2_leaf_reg': 0.004070831640873338, 'border_count': 106, 'bagging_temperature': 0.06355835028602363}. Best is trial 9 with value: 0.8200585628776436.\n",
      "[I 2025-04-23 03:24:41,595] Trial 14 finished with value: 1.6546495700073007 and parameters: {'iterations': 380, 'learning_rate': 0.004470608546778492, 'depth': 12, 'l2_leaf_reg': 0.005470376807480391, 'border_count': 230, 'bagging_temperature': 0.4722149251619493}. Best is trial 9 with value: 0.8200585628776436.\n",
      "[I 2025-04-23 03:26:54,234] Trial 15 finished with value: 1.5145603807815446 and parameters: {'iterations': 207, 'learning_rate': 0.026698666742744605, 'depth': 13, 'l2_leaf_reg': 0.0011258869313624915, 'border_count': 204, 'bagging_temperature': 0.49379559636439074}. Best is trial 9 with value: 0.8200585628776436.\n",
      "[I 2025-04-23 03:26:55,469] Trial 16 finished with value: 0.997543092880412 and parameters: {'iterations': 570, 'learning_rate': 0.007162786999897343, 'depth': 4, 'l2_leaf_reg': 9.354548757337708e-08, 'border_count': 39, 'bagging_temperature': 0.6364104112637804}. Best is trial 9 with value: 0.8200585628776436.\n",
      "[I 2025-04-23 03:32:48,391] Trial 17 finished with value: 1.552029454358034 and parameters: {'iterations': 383, 'learning_rate': 0.010402587615883844, 'depth': 14, 'l2_leaf_reg': 1.7523871598466864e-06, 'border_count': 123, 'bagging_temperature': 0.7555511385430487}. Best is trial 9 with value: 0.8200585628776436.\n",
      "[I 2025-04-23 03:32:52,073] Trial 18 finished with value: 2.19547871062945 and parameters: {'iterations': 306, 'learning_rate': 0.0014254757044027432, 'depth': 7, 'l2_leaf_reg': 2.824825241715838e-07, 'border_count': 240, 'bagging_temperature': 0.808120379564417}. Best is trial 9 with value: 0.8200585628776436.\n",
      "[I 2025-04-23 03:40:49,328] Trial 19 finished with value: 1.5965929170768083 and parameters: {'iterations': 670, 'learning_rate': 0.05532496914298508, 'depth': 13, 'l2_leaf_reg': 4.776728196949699e-07, 'border_count': 231, 'bagging_temperature': 0.5393422419156507}. Best is trial 9 with value: 0.8200585628776436.\n",
      "[I 2025-04-23 03:40:55,463] Trial 20 finished with value: 1.080159649941207 and parameters: {'iterations': 827, 'learning_rate': 0.06197015748809146, 'depth': 7, 'l2_leaf_reg': 9.782893389157736e-08, 'border_count': 83, 'bagging_temperature': 0.4271077886262563}. Best is trial 9 with value: 0.8200585628776436.\n",
      "[I 2025-04-23 03:40:57,906] Trial 21 finished with value: 0.8450110590763433 and parameters: {'iterations': 837, 'learning_rate': 0.05265761277157429, 'depth': 4, 'l2_leaf_reg': 0.00039511700681839584, 'border_count': 125, 'bagging_temperature': 0.22210781047073025}. Best is trial 9 with value: 0.8200585628776436.\n",
      "[I 2025-04-23 03:47:02,384] Trial 22 finished with value: 1.9608543710326325 and parameters: {'iterations': 207, 'learning_rate': 0.0047340227734041914, 'depth': 15, 'l2_leaf_reg': 8.106369361161699e-06, 'border_count': 148, 'bagging_temperature': 0.7030189588951778}. Best is trial 9 with value: 0.8200585628776436.\n",
      "[I 2025-04-23 04:04:12,401] Trial 23 finished with value: 1.6046505989477688 and parameters: {'iterations': 427, 'learning_rate': 0.08781408196485979, 'depth': 15, 'l2_leaf_reg': 1.845188173664121e-06, 'border_count': 143, 'bagging_temperature': 0.30087830981676966}. Best is trial 9 with value: 0.8200585628776436.\n",
      "[I 2025-04-23 04:04:29,937] Trial 24 finished with value: 2.280823917303132 and parameters: {'iterations': 356, 'learning_rate': 0.0011851515660043109, 'depth': 11, 'l2_leaf_reg': 0.0003342806277473177, 'border_count': 43, 'bagging_temperature': 0.27864646423661144}. Best is trial 9 with value: 0.8200585628776436.\n",
      "[I 2025-04-23 04:04:34,181] Trial 25 finished with value: 1.110499702745656 and parameters: {'iterations': 918, 'learning_rate': 0.003013864904679803, 'depth': 5, 'l2_leaf_reg': 0.0002541410632209718, 'border_count': 252, 'bagging_temperature': 0.2420552715115004}. Best is trial 9 with value: 0.8200585628776436.\n",
      "[I 2025-04-23 04:04:38,681] Trial 26 finished with value: 1.0095827007327332 and parameters: {'iterations': 705, 'learning_rate': 0.03336101309469785, 'depth': 6, 'l2_leaf_reg': 0.03580528521176685, 'border_count': 114, 'bagging_temperature': 0.6323058305935795}. Best is trial 9 with value: 0.8200585628776436.\n",
      "[I 2025-04-23 04:04:41,554] Trial 27 finished with value: 0.9351432143705426 and parameters: {'iterations': 670, 'learning_rate': 0.011790965486776316, 'depth': 5, 'l2_leaf_reg': 0.3293991394919696, 'border_count': 103, 'bagging_temperature': 0.18651851039985423}. Best is trial 9 with value: 0.8200585628776436.\n",
      "[I 2025-04-23 04:05:23,336] Trial 28 finished with value: 1.5599711246785488 and parameters: {'iterations': 136, 'learning_rate': 0.01519798062003422, 'depth': 12, 'l2_leaf_reg': 1.4102316596654226e-08, 'border_count': 146, 'bagging_temperature': 0.22649577519793795}. Best is trial 9 with value: 0.8200585628776436.\n",
      "[I 2025-04-23 04:09:08,622] Trial 29 finished with value: 1.7021359557215048 and parameters: {'iterations': 681, 'learning_rate': 0.0022321987366901576, 'depth': 12, 'l2_leaf_reg': 3.024252976134463e-05, 'border_count': 241, 'bagging_temperature': 0.13752094414599325}. Best is trial 9 with value: 0.8200585628776436.\n",
      "[I 2025-04-23 04:17:23,601] Trial 30 finished with value: 2.2976239305539434 and parameters: {'iterations': 407, 'learning_rate': 0.0016863473810115068, 'depth': 15, 'l2_leaf_reg': 0.7871439837551527, 'border_count': 89, 'bagging_temperature': 0.659984046034179}. Best is trial 9 with value: 0.8200585628776436.\n",
      "[I 2025-04-23 04:17:45,613] Trial 31 finished with value: 1.3137919026933904 and parameters: {'iterations': 836, 'learning_rate': 0.012894414393074182, 'depth': 10, 'l2_leaf_reg': 1.5020023705702004e-06, 'border_count': 52, 'bagging_temperature': 0.8972157579533268}. Best is trial 9 with value: 0.8200585628776436.\n",
      "[I 2025-04-23 04:18:04,806] Trial 32 finished with value: 1.1307636053141383 and parameters: {'iterations': 911, 'learning_rate': 0.018458776634788645, 'depth': 8, 'l2_leaf_reg': 1.3895883726793775e-05, 'border_count': 194, 'bagging_temperature': 0.8971102599525771}. Best is trial 9 with value: 0.8200585628776436.\n",
      "[I 2025-04-23 04:19:37,943] Trial 33 finished with value: 1.3535965196865096 and parameters: {'iterations': 899, 'learning_rate': 0.036287002255540685, 'depth': 11, 'l2_leaf_reg': 5.718204526246171e-08, 'border_count': 68, 'bagging_temperature': 0.8985541885270792}. Best is trial 9 with value: 0.8200585628776436.\n",
      "[I 2025-04-23 04:19:40,404] Trial 34 finished with value: 1.9634327694165796 and parameters: {'iterations': 646, 'learning_rate': 0.0010432637161302094, 'depth': 5, 'l2_leaf_reg': 0.009365175535873002, 'border_count': 33, 'bagging_temperature': 0.16080805141749865}. Best is trial 9 with value: 0.8200585628776436.\n",
      "[I 2025-04-23 04:21:50,011] Trial 35 finished with value: 1.3482414716353956 and parameters: {'iterations': 594, 'learning_rate': 0.02419860861453868, 'depth': 11, 'l2_leaf_reg': 1.043335020558628e-06, 'border_count': 191, 'bagging_temperature': 0.23724908749680007}. Best is trial 9 with value: 0.8200585628776436.\n",
      "[I 2025-04-23 04:23:13,686] Trial 36 finished with value: 1.386596622793835 and parameters: {'iterations': 393, 'learning_rate': 0.031115931750282644, 'depth': 11, 'l2_leaf_reg': 0.4395524392287042, 'border_count': 179, 'bagging_temperature': 0.5683086033354716}. Best is trial 9 with value: 0.8200585628776436.\n",
      "[I 2025-04-23 04:23:16,010] Trial 37 finished with value: 1.6820549672595864 and parameters: {'iterations': 184, 'learning_rate': 0.005437904873657087, 'depth': 7, 'l2_leaf_reg': 1.5700258045094183e-06, 'border_count': 249, 'bagging_temperature': 0.3930977246667604}. Best is trial 9 with value: 0.8200585628776436.\n",
      "[I 2025-04-23 04:33:44,519] Trial 38 finished with value: 1.526750036947724 and parameters: {'iterations': 903, 'learning_rate': 0.01829267641174573, 'depth': 13, 'l2_leaf_reg': 0.00033399028774321775, 'border_count': 161, 'bagging_temperature': 0.4925176938188639}. Best is trial 9 with value: 0.8200585628776436.\n",
      "[I 2025-04-23 04:33:47,942] Trial 39 finished with value: 1.1873612142097854 and parameters: {'iterations': 275, 'learning_rate': 0.027855068482535886, 'depth': 7, 'l2_leaf_reg': 1.6551741608613844e-08, 'border_count': 176, 'bagging_temperature': 0.17711067940704894}. Best is trial 9 with value: 0.8200585628776436.\n",
      "[I 2025-04-23 04:37:49,325] Trial 40 finished with value: 1.6743946890175234 and parameters: {'iterations': 947, 'learning_rate': 0.08088298191148205, 'depth': 14, 'l2_leaf_reg': 2.145004967589842e-05, 'border_count': 35, 'bagging_temperature': 0.9283185625877254}. Best is trial 9 with value: 0.8200585628776436.\n",
      "[I 2025-04-23 04:51:53,700] Trial 41 finished with value: 1.6790290499154268 and parameters: {'iterations': 485, 'learning_rate': 0.0857649103704616, 'depth': 15, 'l2_leaf_reg': 0.4754283761334844, 'border_count': 97, 'bagging_temperature': 0.38509772860192526}. Best is trial 9 with value: 0.8200585628776436.\n",
      "[I 2025-04-23 04:51:59,618] Trial 42 finished with value: 1.0493097916597054 and parameters: {'iterations': 866, 'learning_rate': 0.0043037200191432525, 'depth': 6, 'l2_leaf_reg': 0.0010261512112769507, 'border_count': 241, 'bagging_temperature': 0.696029796674973}. Best is trial 9 with value: 0.8200585628776436.\n",
      "[I 2025-04-23 04:52:51,293] Trial 43 finished with value: 2.4079162597147192 and parameters: {'iterations': 613, 'learning_rate': 0.0015644186602631924, 'depth': 11, 'l2_leaf_reg': 8.137381007150568, 'border_count': 63, 'bagging_temperature': 0.5183296523637367}. Best is trial 9 with value: 0.8200585628776436.\n",
      "[I 2025-04-23 04:57:28,957] Trial 44 finished with value: 1.4944096112199772 and parameters: {'iterations': 890, 'learning_rate': 0.030306601291651865, 'depth': 12, 'l2_leaf_reg': 0.021006647887921025, 'border_count': 112, 'bagging_temperature': 0.29359184426449336}. Best is trial 9 with value: 0.8200585628776436.\n",
      "[I 2025-04-23 05:15:19,291] Trial 45 finished with value: 1.5225616490397995 and parameters: {'iterations': 829, 'learning_rate': 0.04170871302599373, 'depth': 14, 'l2_leaf_reg': 1.6563990509923014, 'border_count': 146, 'bagging_temperature': 0.5015162946871996}. Best is trial 9 with value: 0.8200585628776436.\n",
      "[I 2025-04-23 05:20:14,731] Trial 46 finished with value: 1.3773425124525318 and parameters: {'iterations': 819, 'learning_rate': 0.019949309196318342, 'depth': 12, 'l2_leaf_reg': 0.14525598138964968, 'border_count': 231, 'bagging_temperature': 0.3379951568515358}. Best is trial 9 with value: 0.8200585628776436.\n",
      "[I 2025-04-23 05:20:50,810] Trial 47 finished with value: 2.0226229089247325 and parameters: {'iterations': 438, 'learning_rate': 0.0015415722348909046, 'depth': 10, 'l2_leaf_reg': 2.1061071580329713e-08, 'border_count': 136, 'bagging_temperature': 0.5426446347075766}. Best is trial 9 with value: 0.8200585628776436.\n",
      "[I 2025-04-23 05:20:52,541] Trial 48 finished with value: 0.9775074825963459 and parameters: {'iterations': 358, 'learning_rate': 0.015193804050042248, 'depth': 4, 'l2_leaf_reg': 2.1683715411822286e-08, 'border_count': 216, 'bagging_temperature': 0.3601906414112629}. Best is trial 9 with value: 0.8200585628776436.\n",
      "[I 2025-04-23 05:23:21,260] Trial 49 finished with value: 1.577524101989271 and parameters: {'iterations': 214, 'learning_rate': 0.011078641782934488, 'depth': 13, 'l2_leaf_reg': 8.7576835322941e-07, 'border_count': 171, 'bagging_temperature': 0.085347464993768}. Best is trial 9 with value: 0.8200585628776436.\n"
     ]
    }
   ],
   "source": [
    "#모델 학습 및 최적화 \n",
    "print(\"모델 최적화 시작\")\n",
    "study_xgb = optimize_model('xgb',objectiveLR_xgb, train_df, target_df, test_df, test_target_df)\n",
    "study_rf = optimize_model('rf', objectiveLR_rf, train_df, target_df, test_df, test_target_df)\n",
    "study_catboost = optimize_model('catboost', objectiveLR_catboost, train_df, target_df, test_df, test_target_df)"
   ]
  },
  {
   "cell_type": "code",
   "execution_count": 68,
   "metadata": {},
   "outputs": [],
   "source": [
    "# 예측수행\n",
    "pred_xgb = get_optimized_predictions('xgb', study_xgb, train_df, target_df, test_df)\n",
    "pred_rf = get_optimized_predictions('rf', study_rf, train_df, target_df, test_df)\n",
    "pred_catboost = get_optimized_predictions('catboost', study_catboost, train_df, target_df, test_df)\n",
    "\n",
    "# 앙상블 예측\n",
    "ensemble_mean = (pred_xgb + pred_rf + pred_catboost) / 3\n",
    "weights = [\n",
    "    1 / study_xgb.best_value,\n",
    "    1 / study_rf.best_value,\n",
    "    1 / study_catboost.best_value\n",
    "]\n",
    "weights = np.array(weights) / sum(weights)\n",
    "ensemble_weighted = weights[0] * pred_xgb + weights[1] * pred_rf + weights[2] * pred_catboost"
   ]
  },
  {
   "cell_type": "code",
   "execution_count": 71,
   "metadata": {},
   "outputs": [
    {
     "name": "stdout",
     "output_type": "stream",
     "text": [
      "                Model    MAPE      R2\n",
      "0             XGBoost  0.0733  0.9442\n",
      "1        RandomForest  0.0831  0.8806\n",
      "2            CatBoost  0.0719  0.9146\n",
      "3      Ensemble(Mean)  0.0726  0.9221\n",
      "4  Ensemble(Weighted)  0.0723  0.9261\n"
     ]
    },
    {
     "data": {
      "image/png": "[encoded data removed]",
      "text/plain": [
       "<Figure size 1080x432 with 2 Axes>"
      ]
     },
     "metadata": {
      "needs_background": "light"
     },
     "output_type": "display_data"
    }
   ],
   "source": [
    "#모델 평가 결과 출력\n",
    "from sklearn.metrics import r2_score\n",
    "from sklearn.metrics import mean_absolute_percentage_error as mape\n",
    "\n",
    "result = {\n",
    "    'Model': ['XGBoost', 'RandomForest', 'CatBoost', 'Ensemble(Mean)', 'Ensemble(Weighted)'],\n",
    "    'MAPE' : [\n",
    "        mape(test_target_df, pred_xgb),\n",
    "        mape(test_target_df, pred_rf),\n",
    "        mape(test_target_df, pred_catboost),\n",
    "        mape(test_target_df, ensemble_mean),\n",
    "        mape(test_target_df, ensemble_weighted)\n",
    "    ],\n",
    "    'R2' : [\n",
    "        r2_score(test_target_df, pred_xgb),\n",
    "        r2_score(test_target_df, pred_rf),\n",
    "        r2_score(test_target_df, pred_catboost),\n",
    "        r2_score(test_target_df, ensemble_mean),\n",
    "        r2_score(test_target_df, ensemble_weighted)\n",
    "    ]\n",
    "}\n",
    "results_df = pd.DataFrame(result)\n",
    "print(results_df.round(4))\n",
    "\n",
    "#결과 시각화\n",
    "import seaborn as sns\n",
    "plt.style.use('seaborn-paper')\n",
    "sns.set_palette(\"husl\")\n",
    "fig, (ax1, ax2) = plt.subplots(1, 2, figsize=(15, 6))\n",
    "models = results_df['Model'].tolist()\n",
    "rmse_values = results_df['MAPE'].values\n",
    "r2_values = results_df['R2'].values\n",
    "bars = ax1.bar(models, rmse_values, color='skyblue', alpha=0.7)\n",
    "ax1.set_title('MAPE by Model')\n",
    "ax1.set_ylabel('MAPE')\n",
    "ax1.grid(True, alpha=0.3)\n",
    "\n",
    "for bar in bars:\n",
    "  ax1.text(bar.get_x() + bar.get_width()/2., bar.get_height(), f'{bar.get_height():.4f}', ha='center', va='bottom')\n",
    "ax2.plot(models, r2_values, marker='o', linewidth=2, color='orange')\n",
    "ax2.fill_between(models, r2_values, alpha=0.2, color='orange')\n",
    "ax2.set_title('R² Score by Model')\n",
    "ax2.set_ylabel('R² Score')\n",
    "ax2.grid(True, alpha=0.3)\n",
    "\n",
    "for i, r2 in enumerate(r2_values):\n",
    "  ax2.text(i, r2, f'{r2:.4f}', ha='center', va='bottom')\n",
    "plt.suptitle('Model Performance Comparison')\n",
    "plt.tight_layout()\n",
    "plt.show()"
   ]
  },
  {
   "cell_type": "markdown",
   "metadata": {},
   "source": [
    "# 테스트 데이터 추론"
   ]
  },
  {
   "cell_type": "code",
   "execution_count": 131,
   "metadata": {},
   "outputs": [
    {
     "name": "stdout",
     "output_type": "stream",
     "text": [
      "Series([], dtype: int64)\n"
     ]
    }
   ],
   "source": [
    "submit_test_df = pd.read_csv('data_test.csv')\n",
    "\n",
    "missing_test_data  = [col for col in submit_test_df.columns  if submit_test_df[col].isna().any()]\n",
    "submit_test_df  = ensemble_interpolation(submit_test_df, missing_test_data)\n",
    "\n",
    "missing_data_2 = submit_test_df.isnull().sum()\n",
    "missing_data_2 = missing_data_2[missing_data_2 > 0]\n",
    "print(missing_data_2)\n",
    "\n",
    "submit_test_df = submit_test_df.drop(['date', 'Services_PMI', 'Construction_PMI','Natural_Gas_US_Henry_Hub_Gas'], axis=1)"
   ]
  },
  {
   "cell_type": "code",
   "execution_count": 133,
   "metadata": {},
   "outputs": [],
   "source": [
    "# 각 모델로 submit_test_df 예측\n",
    "pred_submit_xgb = get_optimized_predictions('xgb', study_xgb, train_df, target_df, submit_test_df)\n",
    "pred_submit_rf = get_optimized_predictions('rf', study_rf, train_df, target_df, submit_test_df)\n",
    "pred_submit_catboost = get_optimized_predictions('catboost', study_catboost, train_df, target_df, submit_test_df)\n",
    "\n",
    "# 가중치 계산\n",
    "weights = [\n",
    "    1 / study_xgb.best_value,  # XGBoost의 RMSE 역수\n",
    "    1 / study_rf.best_value,   # RandomForest의 RMSE 역수\n",
    "    1 / study_catboost.best_value  # CatBoost의 RMSE 역수\n",
    "]\n",
    "weights = np.array(weights) / sum(weights)  # 가중치 정규화\n",
    "\n",
    "# 가중치 기반 앙상블\n",
    "ensemble_weighted_submit = (\n",
    "    weights[0] * pred_submit_xgb +\n",
    "    weights[1] * pred_submit_rf +\n",
    "    weights[2] * pred_submit_catboost\n",
    ")\n",
    "\n",
    "y_pred = ensemble_weighted_submit"
   ]
  },
  {
   "cell_type": "markdown",
   "metadata": {},
   "source": [
    "# 제출 파일"
   ]
  },
  {
   "cell_type": "code",
   "execution_count": null,
   "metadata": {},
   "outputs": [],
   "source": [
    "submission_df = pd.read_csv(\"submission_example.csv\")\n",
    "L = len(y_pred)\n",
    "usable_len  = L - 3 \n",
    "\n",
    "submission_df = submission_df.iloc[:usable_len].copy()  \n",
    "\n",
    "submission_df[\"pred_1\"] = y_pred[1 : usable_len + 1]    \n",
    "submission_df[\"pred_2\"] = y_pred[2 : usable_len + 2]    \n",
    "submission_df[\"pred_3\"] = y_pred[3 : usable_len + 3]    \n",
    "\n",
    "# 3) 필요하면 인덱스 정리\n",
    "submission_df = submission_df.reset_index(drop=True)"
   ]
  },
  {
   "cell_type": "code",
   "execution_count": 149,
   "metadata": {},
   "outputs": [],
   "source": [
    "submission_df.to_csv(\"submission.csv\", index=False)"
   ]
  },
  {
   "cell_type": "code",
   "execution_count": null,
   "metadata": {},
   "outputs": [],
   "source": []
  }
 ],
 "metadata": {
  "kernelspec": {
   "display_name": "base",
   "language": "python",
   "name": "python3"
  },
  "language_info": {
   "codemirror_mode": {
    "name": "ipython",
    "version": 3
   },
   "file_extension": ".py",
   "mimetype": "text/x-python",
   "name": "python",
   "nbconvert_exporter": "python",
   "pygments_lexer": "ipython3",
   "version": "3.9.12"
  }
 },
 "nbformat": 4,
 "nbformat_minor": 2
}
