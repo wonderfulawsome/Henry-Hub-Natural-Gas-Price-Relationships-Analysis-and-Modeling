{
 "cells": [
  {
   "cell_type": "markdown",
   "id": "462306b5",
   "metadata": {},
   "source": [
    "# Henry Hub 천연가스가격예측\n",
    "\n",
    "- Henry Hub 가스는 미국 루이지애나주의 **헨리 허브(Henry Hub)** 라는 가스 집결지를 기준으로 거래되는 천연가스의 기준 가격\n",
    "- 실질적 미국 천연가스의 기준\n",
    "\n",
    "상관계수가 유의미하게 높거나 낮으며, 시계열 패턴 유사도가 높고, 회귀계수가 유의미한 변수를 선택"
   ]
  },
  {
   "cell_type": "code",
   "execution_count": 1,
   "id": "07aad418",
   "metadata": {},
   "outputs": [
    {
     "ename": "",
     "evalue": "",
     "output_type": "error",
     "traceback": [
      "\u001b[1;31mFailed to start the Kernel 'base (Python 3.9.12)'. \n",
      "\u001b[1;31mView Jupyter <a href='command:jupyter.viewOutput'>log</a> for further details. listen EFAULT: bad address in system call argument 127.0.0.1:9005"
     ]
    }
   ],
   "source": [
    "import pandas as pd"
   ]
  },
  {
   "cell_type": "code",
   "execution_count": 2,
   "id": "f0f623eb",
   "metadata": {},
   "outputs": [],
   "source": [
    "# 훈련데이터 읽기\n",
    "train_df = pd.read_csv('data_train.csv')\n",
    "test_df = pd.read_csv('data_test.csv')"
   ]
  },
  {
   "cell_type": "code",
   "execution_count": 3,
   "id": "99c8732f",
   "metadata": {},
   "outputs": [],
   "source": [
    "#한글폰트\n",
    "import matplotlib.pyplot as plt\n",
    "import matplotlib.font_manager as fm\n",
    "\n",
    "# 한글 폰트 경로 설정\n",
    "font_path = 'C:/Windows/Fonts/malgun.ttf'\n",
    "font_name = fm.FontProperties(fname=font_path).get_name()\n",
    "plt.rc('font', family=font_name)"
   ]
  },
  {
   "cell_type": "markdown",
   "id": "3560fea6",
   "metadata": {},
   "source": [
    "# 상관관계 분석"
   ]
  },
  {
   "cell_type": "code",
   "execution_count": null,
   "id": "651c4805",
   "metadata": {},
   "outputs": [],
   "source": [
    "import seaborn as sns\n",
    "import matplotlib.pyplot as plt\n",
    "\n",
    "# 상관관계 계산\n",
    "corr_matrix = train_df.drop(columns=['date']).corr()\n",
    "\n",
    "# 예측 대상과의 상관관계만 추출\n",
    "target_corr = corr_matrix['Natural_Gas_US_Henry_Hub_Gas'].sort_values(ascending=False)\n",
    "\n",
    "# 상관관계 히트맵 시각화\n",
    "plt.figure(figsize=(16, 12))\n",
    "sns.heatmap(corr_matrix, cmap='coolwarm', center=0, square=True, cbar_kws={\"shrink\": .5})\n",
    "plt.title('전체 변수 간 상관관계 히트맵')\n",
    "plt.tight_layout()\n",
    "plt.show()"
   ]
  },
  {
   "cell_type": "markdown",
   "id": "15a9b0ed",
   "metadata": {},
   "source": [
    "- BCOMCL_INDX\t:\t블룸버그 원유 지수 (Crude Oil Index), 원유 가격 흐름 0.88\n",
    "\n",
    "- Natural_Gas_Rotary_Rig_Count_USA\t:\t미국 내 천연가스 굴착기(리그) 가동 수 0.81\n",
    "\n",
    "- Kilian_Global_Economy_Index_WORLD\t:\t세계 경기 상태를 나타내는 지수 (수요 측면 반영) 0.72\n",
    "\n",
    "- BCOMNG_INDX\t:\t블룸버그 천연가스 지수 (Natural Gas Index) 0.72\n",
    "\n",
    "- Natural_Gas_Imports_USA\t:\t미국 전체 천연가스 수입량 0.71\n",
    "\n",
    "- Natural_Gas_Imports_From_Canada_USA\t:\t미국의 캐나다산 천연가스 수입량 0.66"
   ]
  },
  {
   "cell_type": "markdown",
   "id": "2d450e32",
   "metadata": {},
   "source": [
    "- CPI_Index_Seasonally_Adjusted_USA\t:\t미국 소비자물가지수 (CPI), 계절 조정 -0.70\n",
    "\n",
    "- PPI_Manufacturing_Sector_USA\t:\t미국 제조업 생산자물가지수 (PPI) -0.60\n",
    "\n",
    "- GSPC_INDX\t:S&P 500 지수 (미국 대형주 주가지수) -0.54\n",
    "\n",
    "- DJI_INDX\t:\t다우존스 산업평균지수 -0.56\n",
    "\n",
    "- IXIC_INDX\t:\t나스닥 종합지수 -0.59\n",
    "\n",
    "- DXY_INDX\t:\t달러 인덱스 (주요 통화 대비 달러 강도) -0.43"
   ]
  },
  {
   "cell_type": "code",
   "execution_count": null,
   "id": "f4566b8e",
   "metadata": {},
   "outputs": [],
   "source": [
    "target_corr.head(50)"
   ]
  },
  {
   "cell_type": "code",
   "execution_count": null,
   "id": "ca7bed3d",
   "metadata": {},
   "outputs": [],
   "source": [
    "target_corr.tail(50)"
   ]
  },
  {
   "cell_type": "code",
   "execution_count": null,
   "id": "753e8018",
   "metadata": {},
   "outputs": [],
   "source": [
    "import plotly.graph_objects as go\n",
    "import pandas as pd\n",
    "\n",
    "# 한글 변수명과 상관계수\n",
    "variables_kor = [\n",
    "    \"원유 지수\", \"가스 굴착기 수\", \"세계경기 지수\", \"가스 지수\", \"가스 수입량\",\n",
    "    \"철강 YoY\", \"캐나다 가스 수입량\", \"중간재 물가(PMI)\", \"기준금리\", \"제조업 경기예상(PMI)\",\n",
    "    \"제조업 고용(PMI)\", \"광업 PPI\", \"비제조업 PMI\", \"재고 지수(PMI)\", \"수출 신규수주(PMI)\",\n",
    "    \"주가 선행지수(미)\", \"주문지수(미)\", \"신규수주(제조)\", \"신규수주(비제조)\",\n",
    "    \"순무역(JPN)\", \"완제품재고(DEU)\", \"지하저장량\", \"총소비량\", \"금속가격지수\",\n",
    "    \"CSI300\", \"달러지수\", \"NYSE 지수\", \"달러-유로 환율\", \"S&P500\",\n",
    "    \"다우존스\", \"전력가격\", \"나스닥\", \"제조업 PPI\", \"금속지수\",\n",
    "    \"소비자물가지수\", \"생산량\", \"건설생산(중국)\"\n",
    "]\n",
    "\n",
    "correlations = [\n",
    "    0.876707, 0.813185, 0.717521, 0.715830, 0.710747,\n",
    "    0.672205, 0.663204, 0.649997, 0.601312, 0.586467,\n",
    "    0.546607, 0.505391, 0.452057, 0.438894, 0.435290,\n",
    "    0.429639, 0.428100, 0.424588, 0.406870,\n",
    "   -0.272475, -0.278416, -0.279016, -0.353409, -0.393553,\n",
    "   -0.408610, -0.426271, -0.438696, -0.477372, -0.544617,\n",
    "   -0.555771, -0.570210, -0.589268, -0.604050, -0.656326,\n",
    "   -0.698486, -0.703500, -0.722618\n",
    "]\n",
    "\n",
    "# 데이터프레임 생성 및 정렬\n",
    "df = pd.DataFrame({\n",
    "    \"변수\": variables_kor,\n",
    "    \"상관계수\": correlations\n",
    "}).sort_values(\"상관계수\", ascending=False)\n",
    "\n",
    "# 긍정/부정 구분해 색 지정\n",
    "df[\"색상\"] = df[\"상관계수\"].apply(lambda x: \"steelblue\" if x > 0 else \"crimson\")\n",
    "\n",
    "# Plotly 막대차트\n",
    "fig = go.Figure(go.Bar(\n",
    "    x=df[\"변수\"],\n",
    "    y=df[\"상관계수\"],\n",
    "    marker_color=df[\"색상\"],\n",
    "    text=df[\"상관계수\"].round(3),\n",
    "    textposition=\"outside\"\n",
    "))\n",
    "\n",
    "fig.update_layout(\n",
    "    title=\"Henry Hub 가격과 변수 간 상관계수\",\n",
    "    xaxis_title=\"변수명\",\n",
    "    yaxis_title=\"상관계수\",\n",
    "    yaxis=dict(range=[-1, 1]),\n",
    "    template=\"plotly_white\",\n",
    "    margin=dict(t=60, b=160)\n",
    ")\n",
    "\n",
    "fig.show()\n"
   ]
  },
  {
   "cell_type": "markdown",
   "id": "df20be1f",
   "metadata": {},
   "source": [
    "# 피처 중요도"
   ]
  },
  {
   "cell_type": "code",
   "execution_count": null,
   "id": "517db793",
   "metadata": {},
   "outputs": [],
   "source": [
    "from xgboost import XGBRegressor\n",
    "from sklearn.model_selection import train_test_split\n",
    "import matplotlib.pyplot as plt\n",
    "\n",
    "# date와 target 제외한 feature 설정\n",
    "X = train_df.drop(columns=['date', 'Natural_Gas_US_Henry_Hub_Gas'])\n",
    "y = train_df['Natural_Gas_US_Henry_Hub_Gas']\n",
    "\n",
    "# 학습/검증 데이터 분할\n",
    "X_train, X_valid, y_train, y_valid = train_test_split(X, y, test_size=0.2, random_state=42)\n",
    "\n",
    "# 모델 학습\n",
    "model = XGBRegressor(random_state=42)\n",
    "model.fit(X_train, y_train)\n",
    "\n",
    "# 피처 중요도 시각화\n",
    "importances = model.feature_importances_\n",
    "features = X.columns\n",
    "importance_df = pd.DataFrame({'Feature': features, 'Importance': importances})\n",
    "importance_df = importance_df.sort_values(by='Importance', ascending=False)\n",
    "\n",
    "# 시각화\n",
    "plt.figure(figsize=(10, 8))\n",
    "plt.barh(importance_df['Feature'][:20][::-1], importance_df['Importance'][:20][::-1])\n",
    "plt.title('상위 20개 피처 중요도')\n",
    "plt.xlabel('중요도')\n",
    "plt.tight_layout()\n",
    "plt.show()"
   ]
  },
  {
   "cell_type": "markdown",
   "id": "4a4625c0",
   "metadata": {},
   "source": [
    "- 천연가스 가격 결정에 가장 중요한 변수는 '공급 측면 변수'\n",
    "\n",
    "- 특히 굴착기 수, 원유 가격, 생산자물가(PPI) 등이 예측과 인과 모두에서 핵심 역할\n",
    "\n",
    "- 수요 지표나 금융지표(DXY, Kilian 지수 등)는 보조적 설명에 유효하지만, 모델에선 기여도 낮음\n",
    "\n",
    "- 상관계수와 피처중요도가 모두 높은 변수들은 '설명력 + 예측력'이 둘 다 강한 핵심 변수로 간주 가능"
   ]
  },
  {
   "cell_type": "markdown",
   "id": "916514ef",
   "metadata": {},
   "source": [
    "# EDA"
   ]
  },
  {
   "cell_type": "code",
   "execution_count": 9,
   "id": "d2201789",
   "metadata": {},
   "outputs": [],
   "source": [
    "# 날짜 변환\n",
    "train_df['date'] = pd.to_datetime(train_df['date'])\n",
    "train_df = train_df.sort_values('date')"
   ]
  },
  {
   "cell_type": "markdown",
   "id": "db7dd45b",
   "metadata": {},
   "source": [
    "### 시계열 분석\n",
    "\n",
    "- 천연가스 시계열과 인과관계가 높다고 추정되는는 변수들을 시계열 시각화를 통해 비교하여, 시계열 추이의 유사도를 분석한다.\n",
    "\n",
    "- 양/음의 방향으로 시계열 패턴 유사도가 높을수록 인과관계가 높을 확률 상승\n",
    "\n",
    "- 주요 판단 요소 : 2000년대 중/후반 2번은 가스 급등과 2010년대 부터의 가격 하락에 있어서 얼마나 유사한지 파악"
   ]
  },
  {
   "cell_type": "code",
   "execution_count": null,
   "id": "ddd95baa",
   "metadata": {},
   "outputs": [],
   "source": [
    "# 시계열 시각화\n",
    "plt.figure(figsize=(12, 4))\n",
    "plt.plot(train_df['date'], train_df['Natural_Gas_US_Henry_Hub_Gas'])\n",
    "plt.title('Henry Hub 천연가스 가격 추이')\n",
    "plt.xlabel('Date')\n",
    "plt.ylabel('Price')\n",
    "plt.grid()\n",
    "plt.tight_layout()\n",
    "plt.show()"
   ]
  },
  {
   "cell_type": "code",
   "execution_count": null,
   "id": "39cf550a",
   "metadata": {},
   "outputs": [],
   "source": [
    "from sklearn.preprocessing import StandardScaler\n",
    "\n",
    "# 타겟 정의\n",
    "target = 'Natural_Gas_US_Henry_Hub_Gas'\n",
    "\n",
    "# 스케일링 대상: 모든 컬럼 중에서 타겟 포함\n",
    "scale_cols = list(train_df.columns)\n",
    "if 'date' in scale_cols:\n",
    "    scale_cols.remove('date')  # 날짜는 스케일링 대상 아님\n",
    "\n",
    "# 스케일링\n",
    "scaler = StandardScaler()\n",
    "scaled_values = scaler.fit_transform(train_df[scale_cols])\n",
    "scaled_df = pd.DataFrame(scaled_values, columns=scale_cols)\n",
    "scaled_df['date'] = train_df['date'].values\n",
    "\n",
    "# 한글 폰트 설정\n",
    "sns.set_style(\"whitegrid\")\n",
    "font_path = 'C:/Windows/Fonts/malgun.ttf'\n",
    "font_name = fm.FontProperties(fname=font_path).get_name()\n",
    "plt.rc('font', family=font_name)\n",
    "plt.rcParams['axes.unicode_minus'] = False\n",
    "\n",
    "# 시각화\n",
    "import math\n",
    "\n",
    "features = [col for col in scale_cols if col != target]\n",
    "n_features = len(features)\n",
    "n_cols = 4\n",
    "n_rows = math.ceil(n_features / n_cols)\n",
    "\n",
    "# 페이지 단위로 나눠서 보기\n",
    "for start in range(0, n_features, n_cols * 4):  # 4행씩 페이지 분할\n",
    "    end = min(start + n_cols * 4, n_features)\n",
    "    subset = features[start:end]\n",
    "    \n",
    "    fig, axes = plt.subplots(math.ceil(len(subset)/n_cols), n_cols, figsize=(20, 4 * math.ceil(len(subset)/n_cols)))\n",
    "    axes = axes.flatten()\n",
    "\n",
    "    for i, col in enumerate(subset):\n",
    "        ax = axes[i]\n",
    "        ax.plot(scaled_df['date'], scaled_df[col], label=col, color='steelblue')\n",
    "        ax.plot(scaled_df['date'], scaled_df[target], label='Henry Hub 가격', color='darkred')\n",
    "        ax.set_title(f'{col} vs Henry Hub 가격', fontsize=10)\n",
    "        ax.set_xlabel('날짜', fontsize=8)\n",
    "        ax.set_ylabel('표준화된 값', fontsize=8)\n",
    "        ax.tick_params(axis='x', rotation=45, labelsize=7)\n",
    "        ax.tick_params(axis='y', labelsize=7)\n",
    "        ax.legend(fontsize=8)\n",
    "\n",
    "    # 남은 subplot 숨기기\n",
    "    for j in range(len(subset), len(axes)):\n",
    "        fig.delaxes(axes[j])\n",
    "\n",
    "    plt.tight_layout()\n",
    "    plt.subplots_adjust(hspace=0.5, wspace=0.3)\n",
    "    plt.show()"
   ]
  },
  {
   "cell_type": "code",
   "execution_count": null,
   "id": "47102ed2",
   "metadata": {},
   "outputs": [],
   "source": [
    "import math\n",
    "\n",
    "col =['Natural_Gas_Rotary_Rig_Count_USA',\n",
    "    'Kilian_Global_Economy_Index_WORLD', \n",
    "    'Natural_Gas_Imports_USA',\n",
    "    'BCOMCL_INDX',\n",
    "    'Crude_Steel_Accumulated_YoY',\n",
    "    'PPI_Mining_Sector_USA',\n",
    "    'DXY_INDX']\n",
    "\n",
    "from sklearn.preprocessing import StandardScaler\n",
    "\n",
    "# 타겟 정의\n",
    "target = 'Natural_Gas_US_Henry_Hub_Gas'\n",
    "\n",
    "# 스케일링 대상: col 리스트의 변수들과 타겟\n",
    "scale_cols = col + [target]\n",
    "\n",
    "# 스케일링\n",
    "scaler = StandardScaler()\n",
    "scaled_values = scaler.fit_transform(train_df[scale_cols])\n",
    "scaled_df = pd.DataFrame(scaled_values, columns=scale_cols)\n",
    "scaled_df['date'] = train_df['date'].values\n",
    "\n",
    "# 한글 폰트 설정\n",
    "sns.set_style(\"whitegrid\")\n",
    "font_path = 'C:/Windows/Fonts/malgun.ttf'\n",
    "font_name = fm.FontProperties(fname=font_path).get_name()\n",
    "plt.rc('font', family=font_name)\n",
    "plt.rcParams['axes.unicode_minus'] = False\n",
    "\n",
    "# 시각화\n",
    "n_cols = 4\n",
    "n_rows = math.ceil(len(col) / n_cols)\n",
    "\n",
    "fig, axes = plt.subplots(n_rows, n_cols, figsize=(20, 4 * n_rows))\n",
    "axes = axes.flatten()\n",
    "\n",
    "for i, feature in enumerate(col):\n",
    "    ax = axes[i]\n",
    "    ax.plot(scaled_df['date'], scaled_df[feature], label=feature, color='steelblue')\n",
    "    ax.plot(scaled_df['date'], scaled_df[target], label='Henry Hub 가격', color='darkred')\n",
    "    ax.set_title(f'{feature} vs Henry Hub 가격', fontsize=10)\n",
    "    ax.set_xlabel('날짜', fontsize=8)\n",
    "    ax.set_ylabel('표준화된 값', fontsize=8)\n",
    "    ax.tick_params(axis='x', rotation=45, labelsize=7)\n",
    "    ax.tick_params(axis='y', labelsize=7)\n",
    "    ax.legend(fontsize=8)\n",
    "\n",
    "# 남은 subplot 숨기기\n",
    "for j in range(len(col), len(axes)):\n",
    "    fig.delaxes(axes[j])\n",
    "\n",
    "plt.tight_layout()\n",
    "plt.subplots_adjust(hspace=0.5, wspace=0.3)\n",
    "plt.show()"
   ]
  },
  {
   "cell_type": "markdown",
   "id": "0ae61b78",
   "metadata": {},
   "source": [
    "상관관계의 절댓값이 유의미 할 정도로 크며, 시계열 패턴 유사도가 높은 변수는 *가스 굴착기수, 세계 경기지수, 원유 지수, 광업ppi, 철강, 가스 수입량, 달러지수* 이다.\n",
    "\n",
    "가스 굴착기수 - 세계 경기지수, 원유 지수, 광업ppi - 철강 - 가스 수입량 순으로 유사한 시계열을 보이며,\n",
    "\n",
    "역의 방향으로는 달러지수가 유사도를 보인다.\n",
    "\n",
    "나머지 변수들은 시계열 패턴 유사도가 나타나지 않으므로 인과관계가 크지 않다고 판단하였다."
   ]
  },
  {
   "cell_type": "markdown",
   "id": "3569e5d4",
   "metadata": {},
   "source": [
    "# 회귀분석"
   ]
  },
  {
   "cell_type": "code",
   "execution_count": null,
   "id": "e618e769",
   "metadata": {},
   "outputs": [],
   "source": [
    "cols_eng = [\n",
    "    'Natural_Gas_Rotary_Rig_Count_USA',\n",
    "    'Kilian_Global_Economy_Index_WORLD',\n",
    "    'Natural_Gas_Imports_USA',\n",
    "    'BCOMCL_INDX',\n",
    "    'Crude_Steel_Accumulated_YoY',\n",
    "    'PPI_Mining_Sector_USA',\n",
    "    'DXY_INDX'\n",
    "]\n",
    "\n",
    "cols_kor = [\n",
    "    '가스 굴착기수',\n",
    "    '세계경기지수',\n",
    "    '가스 수입량',\n",
    "    '원유 지수',\n",
    "    '철강 YoY',\n",
    "    '광업 PPI',\n",
    "    '달러지수'\n",
    "]\n",
    "\n",
    "import statsmodels.api as sm\n",
    "\n",
    "target = 'Natural_Gas_US_Henry_Hub_Gas'\n",
    "print(\"단변량 회귀분석 결과:\\n\")\n",
    "\n",
    "for eng_col, kor_col in zip(cols_eng, cols_kor):\n",
    "    X = train_df[[eng_col]].dropna()\n",
    "    y = train_df.loc[X.index, target]\n",
    "\n",
    "    X_const = sm.add_constant(X)\n",
    "    model = sm.OLS(y, X_const).fit()\n",
    "    \n",
    "    coef = model.params[1]\n",
    "    pval = model.pvalues[1]\n",
    "\n",
    "    print(f\"{kor_col:<20} 회귀계수: {coef:>8.4f} | p-value: {pval:>6.4f}\")"
   ]
  },
  {
   "cell_type": "markdown",
   "id": "d307ed37",
   "metadata": {},
   "source": [
    "가스 수입량은 회귀계수와 시계열 패턴 유사도에서 인과관계가 유의미하지 않다고 판단하여 제외"
   ]
  },
  {
   "cell_type": "markdown",
   "id": "70b5712b",
   "metadata": {},
   "source": [
    "# 산점도 분포"
   ]
  },
  {
   "cell_type": "code",
   "execution_count": null,
   "id": "2c9e69e9",
   "metadata": {},
   "outputs": [],
   "source": [
    "cols_eng = [\n",
    "    'Natural_Gas_Rotary_Rig_Count_USA',\n",
    "    'Kilian_Global_Economy_Index_WORLD',\n",
    "    'BCOMCL_INDX',\n",
    "    'Crude_Steel_Accumulated_YoY',\n",
    "    'PPI_Mining_Sector_USA',\n",
    "    'DXY_INDX'\n",
    "]\n",
    "\n",
    "cols_kor = [\n",
    "    '가스 굴착기수',\n",
    "    '세계경기지수',\n",
    "    '원유 지수',\n",
    "    '철강 YoY',\n",
    "    '광업 PPI',\n",
    "    '달러지수'\n",
    "]"
   ]
  },
  {
   "cell_type": "code",
   "execution_count": null,
   "id": "52c0b101",
   "metadata": {},
   "outputs": [],
   "source": [
    "plt.rc('font', family=font_name)\n",
    "plt.rcParams['axes.unicode_minus'] = False\n",
    "\n",
    "# 3x2 형식의 서브플롯 배치\n",
    "fig, axes = plt.subplots(len(cols_eng)//2 + len(cols_eng)%2, 3, figsize=(15, 20))\n",
    "axes = axes.flatten()\n",
    "\n",
    "for i, (eng_col, kor_col) in enumerate(zip(cols_eng, cols_kor)):\n",
    "    ax = axes[i]\n",
    "    # fit_reg=False 매개변수를 추가하여 회귀선 제거\n",
    "    sns.regplot(data=train_df, x=eng_col, y=target, ax=ax, fit_reg=False)\n",
    "    ax.set_title(f'{kor_col} vs 천연가스 가격 (산점도)')\n",
    "    ax.set_xlabel(kor_col)\n",
    "    ax.set_ylabel('Henry Hub 가격')\n",
    "\n",
    "# 남은 빈 서브플롯 제거\n",
    "for i in range(len(cols_eng), len(axes)):\n",
    "    fig.delaxes(axes[i])\n",
    "\n",
    "plt.tight_layout()\n",
    "plt.show()"
   ]
  },
  {
   "cell_type": "markdown",
   "id": "7eea4872",
   "metadata": {},
   "source": [
    "1. 가스 굴착기수\n",
    "- → 우상향 곡선형\n",
    "- → 리그 수가 약 800대까지 증가할 때 천연가스 가격이 빠르게 상승, 이후 상승률은 완만해짐\n",
    "\n",
    "2. 세계경기지수\n",
    "- → 완만한 우상향\n",
    "- → 지수 50 이상에서 가격이 6~10달러 범위에 분포, 다소 산포가 큼\n",
    "\n",
    "3. 원유 지수\n",
    "- → 거의 완전한 선형 우상향\n",
    "- → 고점·저점이 천연가스 가격과 시기적으로 일치, 명확한 정비례 관계\n",
    "\n",
    "4. 철강 YoY\n",
    "- → 두 영역 집중\n",
    "- → 0% 근처에서는 가격이 낮고, 10% 이상일 때 가격이 6달러 이상으로 상승\n",
    "\n",
    "5. 광업 PPI\n",
    "- → 넓은 범위의 우상향\n",
    "- → 생산자물가 상승과 함께 천연가스 가격도 점진적으로 상승\n",
    "\n",
    "6. 달러지수\n",
    "- → 명확한 역(음의) 선형\n",
    "- → 달러지수가 80 → 100으로 상승하는 구간에서 천연가스 가격은 10 → 3달러로 하락하는 패턴"
   ]
  },
  {
   "cell_type": "markdown",
   "id": "e4fc8514",
   "metadata": {},
   "source": [
    "# 결론"
   ]
  },
  {
   "cell_type": "markdown",
   "id": "6f535138",
   "metadata": {},
   "source": [
    "| 변수 | 시계열 유사도 | 회귀계수 | 상관계수 | 산점도 특징 | 인과관계 |\n",
    "|----------------|-----------------------------|------------|------------|-----------------------------|-------------------------------|\n",
    "| 가스 굴착기수 | 매우 유사 (패턴 일치) | +0.0038 | 0.8132 | 우상향·곡선형 — 리그 수가 800대까지 늘 때 가격이 가파르게 상승, 이후 완만 | 가스 굴착기수 증가 → 가격 상승<br>굴착·시추 활동 확대 → 미래 공급 기대 + 수요 심리 동반 |\n",
    "| 세계경기지수 | 다소 유사 (리드함) | +0.0212 | 0.7175 | 완만한 우상향·산포 큼. 지수 > 50일 때 가격도 6~10달러대 | 세계경기지수 개선 → 가격 상승<br>경기 회복 → 산업·발전용 가스 수요 확대 |\n",
    "| 원유 지수 | 강한 유사도 (거의 일치) | +0.0128 | 0.8767 | 거의 선형적 우상향. 고점·저점 시점 일치 | 원유 지수 상승 → 가격 상승<br>유가 상승 시 대체재인 가스 가격도 함께 상승 |\n",
    "| 철강 YoY | 시기별 유사 (중기 흐름 유사) | +0.1719 | 0.6722 | 0% 부근 집중 / 10% 이상일 때 가격 6달러 이상 | 철강 생산 증가 → 가격 상승<br>산업 생산 증가 → 공정용 에너지 수요 증가 |\n",
    "| 광업 PPI | 유사 (가격 구조와 동행) | +0.0283 | 0.5054 | 우상향. 생산비 상승이 가격에 전이됨 | 광업 PPI 상승 → 가격 상승<br>채굴·운송 비용 상승이 가스 가격에 전가 |\n",
    "| 달러지수 | 역방향 유사 | -0.1243 | -0.6980 | 역(음의) 선형 경향 — 달러 80→100 구간에서 가격 10→3달러로 하락 | 달러 강세 → 가격 하락<br>달러가치↑ → 달러표시 원자재 가격↓ (환율 효과) |"
   ]
  },
  {
   "cell_type": "markdown",
   "id": "b8152a56",
   "metadata": {},
   "source": []
  }
 ],
 "metadata": {
  "kernelspec": {
   "display_name": "base",
   "language": "python",
   "name": "python3"
  },
  "language_info": {
   "codemirror_mode": {
    "name": "ipython",
    "version": 3
   },
   "file_extension": ".py",
   "mimetype": "text/x-python",
   "name": "python",
   "nbconvert_exporter": "python",
   "pygments_lexer": "ipython3",
   "version": "3.9.12"
  }
 },
 "nbformat": 4,
 "nbformat_minor": 5
}
